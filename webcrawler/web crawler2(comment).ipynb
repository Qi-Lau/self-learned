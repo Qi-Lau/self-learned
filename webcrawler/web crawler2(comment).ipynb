{
 "cells": [
  {
   "cell_type": "code",
   "execution_count": 1,
   "metadata": {},
   "outputs": [],
   "source": [
    "# 导入库文件(工具库)\n",
    "import requests"
   ]
  },
  {
   "cell_type": "code",
   "execution_count": 2,
   "metadata": {},
   "outputs": [],
   "source": [
    "#设定爬虫目标网址\n",
    "url = 'https://detail.tmall.com/item.htm?spm=a220m.1000858.0.0.43d4ec74UdhWn9&id=602738760307&is_b=1&cat_id=2&q=%25B9%25F3%25D6%25DD%25C3%25A9%25CC%25A8+%25BE%25C6+53'"
   ]
  },
  {
   "cell_type": "code",
   "execution_count": 3,
   "metadata": {},
   "outputs": [],
   "source": [
    "#直接发起数据请求拿数据\n",
    "data = requests.get(url).text"
   ]
  },
  {
   "cell_type": "code",
   "execution_count": 4,
   "metadata": {},
   "outputs": [
    {
     "data": {
      "text/plain": [
       "'\\r\\n\\r\\n\\r\\n<!doctype html>\\n<html>\\n<head>\\n    <meta charset=\"gbk\" />\\n    <meta name=\"renderer\" content=\"webkit\"/>\\n    <meta http-equiv=\"X-UA-Compatible\" content=\"IE=Edge\"/>\\n    \\n<script>\\n    (function(w,d){\\n    try{\\n        var l,url=\\'//mdskip.taobao.com/core/initItemDetail.htm?isUseInventoryCenter=true&cartEnable=true&service3C=false&isApparel=false&isSecKill=false&tmallBuySupport=true&isAreaSell=true&tryBeforeBuy=false&offlineShop=false&itemId=602738760307&showShopProm=false&isPurchaseMallPage=false&itemGmtModified=1619424137000&isRegionLevel=true&household=false&sellerPreview=false&queryMemberRight=true&addressLevel=3&isForbidBuyItem=false\\',isg=document.cookie.match(\\'(^|;) ?l=([^;]*)(;|$)\\'),isg2 =document.cookie.match(\\'(^|;) ?isg=([^;]*)(;|$)\\');\\n        if(!url){return;}\\n        var arr=[\"callback=setMdskip\",\"timestamp=\"+(+new Date()),\"isg=\"+(isg&&isg[2]),\"isg2=\"+(isg2&&isg2[2])],reg=/[?&^](ip|campaignId|key|abt|cat_id|q|u_channel|areaId|sdShopId)=([^&]+)/g,params=w.location.search;\\n        while(r=reg.exec(params)){arr.push(r[1]+\"=\"+r[2]);}\\n        d.referrer && (arr.push(\"ref=\"+encodeURIComponent(d.referrer)));\\n        w.onMdskip=function(c){l=l?c(l):c}\\n        w.setMdskip=function(v){l=l?l(v):v;}\\n        try{\\n            var head=d.head || d.getElementsByTagName(\"head\")[0];\\n            var script=d.createElement(\"script\");\\n            head.insertBefore(script,head.firstChild);\\n            script.src=url+\\'&\\'+arr.join(\"&\");\\n        }\\n        catch(err){\\n            d.write(\\'<script src=\"\\'+url+\\'&\\'+arr.join(\"&\")+\\'\" async=\"async\"></\\'+\\'script>\\');\\n        }\\n    }catch(e){\\n        w.onMdskip=null;\\n        setTimeout(function(){throw err;},0);\\n    }\\n    }(window,document))\\n</script>\\n\\r\\n   \\t<meta name=\"keywords\" content=\"【库存告急】贵州茅台生肖纪念酒猪年53度500ML酱香型白酒\"/>\\n<meta name=\"description\" content=\"欢迎前来淘宝网实力旺铺，选购【库存告急】贵州茅台生肖纪念酒猪年53度500ML酱香型白酒,想了解详情【库存告急】贵州茅台生肖纪念酒猪年53度500ML酱香型白酒，请进入壹玖壹玖官方旗舰店的壹玖壹玖官方旗舰店实力旺铺，更多商品任你选购\"/>\\n<script>(function(D,W){var sampling=1000,maxNum=5,_st = +new Date();if(Math.floor(Math.random()*sampling)>0){return;}var onError=W.onerror=function(err,file,line){if((--maxNum)<=0){return;};err=\\'[t\\'+(new Date()-_st)+\\']\\'+err;if(W._jstErrCat){err=\\'[c\\'+W._jstErrCat+\\']\\'+err;}var nick=\"\",result;try{result=/_nk_=([^;]+)/.exec(D.cookie);if(result){nick=decodeURIComponent(result[1]);}}catch(e){}new Image().src=\"//gm.mmstat.com/jstracker.2?\"+[\"type=9\",\"id=jstracker\",\"v=0.01\",\"nick=\"+encodeURIComponent(nick),\"islogin=0\",\"msg=\"+encodeURIComponent(err||\"\"),\"file=\"+encodeURIComponent(file||\"\"),\"line=\"+encodeURIComponent(line||\"\"),\"scrolltop=\"+(D.documentElement.scrollTop||D.body.scrollTop||0),\"screen=\"+screen.width+\"x\"+screen.height,\"t=\"+new Date().valueOf()].join(\"&\");};W._jstErrTimeout=setTimeout(function(){onError(\"App init timeout\");},4096);})(document, window)</script>\\r\\n\\n\\n                                \\n\\n                        \\t\\t                                                                                                        \\t\\t                                                                                        \\t\\t        \\t\\t\\n\\n\\n                                                                                                                \\t\\t                                        \\t\\t                                                        \\t\\t        \\t\\t\\t\\t\\t\\t\\t\\t\\n\\n                                \\n\\n                        \\t\\t\\t\\t\\t\\t\\t\\t\\t\\t\\t\\t        \\t\\t                                                                        \\t\\t\\t\\t\\t\\t\\t\\t\\t\\t                \\t\\t\\t\\t\\t\\t\\n\\n                                \\n\\t\\t\\t\\t\\t\\t\\t\\t\\t\\t\\t\\t\\n\\t\\t\\n\\n\\n\\n\\n\\n\\n\\n\\n        \\t\\t\\t\\t\\n<link rel=\"canonical\" href=\"https://detail.tmall.com/item.htm?id=602738760307\" />\\n<link rel=\"amphtml\" hreflang=\"zh-Hans\" href=\"https://www.taobao.com/list/item-amp/602738760307.htm\" />\\n<link rel=\"alternate\" hreflang=\"zh-Hant\" href=\"https://world.taobao.com/item/602738760307.htm\" />\\n    \\n                    \\n    \\t    <script src=\"//g.alicdn.com/tb/tracker/index.js\"></script>\\n\\t    <script>\\n\\t\\t\\twindow.g_config = {\\n\\t\\t\\t\\tjstracker2: {\\n\\t\\t\\t\\t\\tsampling: 10,\\n\\t\\t\\t\\t\\turl: \\'https://detail.tmall.com/item.htm\\'\\n\\t\\t\\t\\t}\\n\\t\\t\\t};\\n\\t    </script>\\n\\n\\n\\n    <script>(function(w, d) {var gt = \\'getElementsByTagName\\',h = d[gt](\\'head\\')[0],m,i;w.g_config={itemId:\"602738760307\",sellerId:\"726984974\",shopId:\"67653130\",startTime:(+new Date()),p:1,type:\"b\",t:\"2013072520131122\",assetsHost:\"//assets.alicdn.com\",pw:(window.screen.width >= 1260&&true&&(39033&8||39033&512||39033&16384||(/standard=1/.test(window.location.search)&&!false)))?\"1190\":\"990\",webww:true,removeBrandBar:true,ap_mods:{jstracker:[0]},\"loadModulesLater\":true,shopUrl:\"//yjyjjl.tmall.com\",moduleTimeStamp: \"\"  ,showDetailQrcode:true,showShopQrcode:true,wtId:\"2090147217\",reviewsVersion:\"3.0.14\",beautyBucketTestIdArray:\"[all]\",cspuBucketTestIdArray:\"[all]\",monthlySalesBucketTestIdArray:\"[no]\",beautyVesion :\"1.4.2\",controlModuleOwn:\"true\",toolbar:false,ueUrl:\"//feedback.taobao.com/pc/feedbacks?productId=339&source=Web\",shopVersion:\"3.2.20\",tmShopAges: 10 ,ueId:1677,\\n\\n\\n\\nbizTag:39033,appId: 1,isEC:true ,shopUrl:\"//yjyjjl.tmall.com\",showDetailQrcode: true,showShopQrcode: true,newHead:true,isClosedSales:false,is1111HalfPriceItem:false,sellerNickName:\"%E5%A3%B9%E7%8E%96%E5%A3%B9%E7%8E%96%E5%AE%98%E6%96%B9%E6%97%97%E8%88%B0%E5%BA%97\",categoryId:50008144,notInitSearchBar:true,isInternational: false,pageType: \"\"};d[gt](\\'html\\')[0][\\'className\\'] += \" w\"+w.g_config.pw;})(window, document);</script>\\n    \\n            <title>【库存告急】贵州茅台生肖纪念酒猪年53度500ML酱香型白酒-tmall.com天猫</title>\\n    <link rel=\"shortcut icon\" href=\"//img.alicdn.com/tfs/TB1XlF3RpXXXXc6XXXXXXXXXXXX-16-16.png\" type=\"image/x-icon\"/>\\n    <script>\\n        window.g_config = window.g_config || {};\\n        window.g_config.devId = \"pc\";\\n        window.g_config.headerVersion = \\'1.0.0\\';\\n                                                                            window.g_config.pageId = \\'\\';\\n                window.g_config.bizId = \\'\\';\\n                                                                window.g_config.isMarket = true;\\n                                            window.g_config.loadModulesLater = true;\\n        window.g_config.sl = \\'vm\\';\\n    </script>\\n                        \\n\\n                \\n\\n        <!-- globalmodule version: 3.0.84 -->\\n<link rel=\"stylesheet\"\\n      href=\"//g.alicdn.com/??mui/global/3.0.31/global.css,tm/shop/3.2.20/app.css,tm/shop/3.2.20/page/detail.css\"/>\\n<script src=\"//g.alicdn.com/??kissy/k/1.4.2/seed-min.js,mui/seed/1.3.0/seed.js,mui/globalmodule/3.0.84/seed.js,mui/btscfg-g/3.0.0/index.js,mui/bucket/3.0.4/index.js,mui/globalmodule/3.0.84/global-mod-pc.js,mui/globalmodule/3.0.84/global-mod.js,mui/global/3.0.31/global-pc.js,mui/global/3.0.31/global.js,tm/shop/3.2.20/app.js,tm/shop/3.2.20/page/detail.js\"></script>\\n<script src=\"//g.alicdn.com/secdev/pointman/js/index.js\" app=\"tmall\"></script>\\n<script>\\n        TB.environment.isApp = true;\\n                TB.environment.passCookie = false;\\n        </script>\\n\\n\\n\\n    \\n    <script async src=\"//g.alicdn.com/sd/sufei/0.3.103/app/common/sufei-seed.js\"></script>\\n                        <link rel=\"stylesheet\" href=\"//g.alicdn.com/??tm/detail/2.0.9/app.css,tm/detail/2.0.9/page/itemDetail.css\"/>\\n            <script src=\"//g.alicdn.com/??tm/detail/2.0.9/app.js,tm/detail/2.0.9/page/itemDetail.js\"></script>\\n                <link rel=\"stylesheet\"  href=\"//g.alicdn.com/shop/taesite/0.1.7/platinum/stylesheet/??common/mods/ww-hover/default-min.css,view/layout-tmall-990-min.css,common/modules-sys-tmall-default-min.css,common/modules-other-tmall-default-min.css\"/>\\r\\n\\t\\n            <meta name=\"spm-id\" content=\"a220o\" />\\n    \\t\\t\\t<meta name=\"referrer\" content=\"always\">\\n\\t\\t\\t\\t\\t<meta name=\"microscope-data\" content=\"pageId=1407059826;prototypeId=2;siteId=2; shopId=67653130; userid=726984974;\">\\n\\t            \\n    \\n    \\n    \\n    \\n    \\n    \\n\\n    \\n    \\n            \\n      <script type=\"text/javascript\" charset=\"utf-8\" src=\"//g.alicdn.com/mui/beautysku/1.0.1/index-pc.js\"></script>\\n \\n    <script>\\r\\n  g_config = g_config || {};\\r\\n  g_config.removeSubNav = true;\\r\\n  g_config.removeHotQuery = true;\\r\\n</script>\\n\\n        <script type=\"text/javascript\">\\r\\nKISSY.config({\\r\\n  \"combine\": true,\\r\\n  \"modules\": {\\r\\n    \"mui/mtop/index\": {\\r\\n      \"requires\": [\\r\\n        \"mui/mtb-windvane/\",\\r\\n        \"mui/babel-polyfill/\"\\r\\n      ]\\r\\n    },\\r\\n    \"mui/mtop/storage-middleware\": {\\r\\n      \"requires\": [\\r\\n        \"mui/babel-polyfill/\"\\r\\n      ]\\r\\n    },\\r\\n    \"mui/zebra-guaguaka-detail-pc/index-pc\": {\\r\\n      \"requires\": [\\r\\n        \"mui/kissy-polyfill/index\",\\r\\n        \"dom\",\\r\\n        \"event\",\\r\\n        \"ajax\",\\r\\n        \"mui/minilogin/index\",\\r\\n        \"mui/zebra-guaguaka-detail-pc/widget\",\\r\\n        \"mui/zebra-guaguaka-detail-pc/index-pc.css\",\\r\\n        \"mui/mtop/index\"\\r\\n      ]\\r\\n    },\\r\\n    \"mui/zebra-guaguaka-detail-pc/widget\": {\\r\\n      \"requires\": [\\r\\n        \"dom\",\\r\\n        \"event\"\\r\\n      ]\\r\\n    }\\r\\n  },\\r\\n  \"packages\": {\\r\\n    \"kissy\": {\\r\\n      \"base\": \"//g.alicdn.com/kissy/k/1.4.10/\",\\r\\n      \"version\": \"1.4.10\"\\r\\n    },\\r\\n    \"mui/babel-polyfill\": {\\r\\n      \"debug\": true,\\r\\n      \"group\": \"tm\",\\r\\n      \"ignorePackageNameInUri\": true,\\r\\n      \"path\": \"//g.alicdn.com/mui/babel-polyfill/6.2.6/\",\\r\\n      \"version\": \"6.2.6\"\\r\\n    },\\r\\n    \"mui/kissy-polyfill\": {\\r\\n      \"debug\": true,\\r\\n      \"group\": \"tm\",\\r\\n      \"ignorePackageNameInUri\": true,\\r\\n      \"path\": \"//g.alicdn.com/mui/kissy-polyfill/4.0.15/\",\\r\\n      \"version\": \"4.0.15\"\\r\\n    },\\r\\n    \"mui/mtb-windvane\": {\\r\\n      \"debug\": true,\\r\\n      \"group\": \"tm\",\\r\\n      \"ignorePackageNameInUri\": true,\\r\\n      \"path\": \"//g.alicdn.com/mui/mtb-windvane/4.0.3/\",\\r\\n      \"version\": \"4.0.3\"\\r\\n    },\\r\\n    \"mui/mtop\": {\\r\\n      \"debug\": true,\\r\\n      \"group\": \"tm\",\\r\\n      \"ignorePackageNameInUri\": true,\\r\\n      \"path\": \"//g.alicdn.com/mui/mtop/4.1.1/\",\\r\\n      \"version\": \"4.1.1\"\\r\\n    },\\r\\n    \"mui/zebra-guaguaka-detail-pc\": {\\r\\n      \"debug\": true,\\r\\n      \"group\": \"tm\",\\r\\n      \"ignorePackageNameInUri\": true,\\r\\n      \"path\": \"//g.alicdn.com/mui/zebra-guaguaka-detail-pc/3.0.18/\",\\r\\n      \"version\": \"3.0.18\"\\r\\n    }\\r\\n  }\\r\\n});\\r\\n</script>\\n\\n            <script src=\"//g.alicdn.com/tb/pmp/2.88.7/config.js\"></script> \\r\\n<link rel=\"stylesheet\" href=\"//g.alicdn.com/tb/pmp/2.88.7/c/sku/tmall.css\">\\r\\n<script> \\r\\n   XCake.config({ \\r\\n   name:\\'pmp\\', \\r\\n   base:\\'//g.alicdn.com/tb/pmp/2.88.7/\\', \\r\\n   combine:KISSY.Config.debug?false:true \\r\\n   }); \\r\\n   KISSY.use(\\'pmp/c/sku/tmall\\');\\r\\n</script>\\n\\n\\n</head>\\n<body class=\"  no7day\"  data-spm=\"1000855\" ><script>\\nwith(document)with(body)with(insertBefore(createElement(\"script\"),firstChild))setAttribute(\"exparams\",\"category=item%5f50008144&userid=&at_isb=1&at_bucketid=sbucket%5f5&b2c_brand=4101168&b2c_auction=602738760307&at_autype=4%5f67653130&aplus&udpid=&at_alis=2%5f726984974&&yunid=&33b751b7673e&trid=6f06ea1816194380517425154e&asid=AQAAAADjqYZg8nsibQAAAABDSppfkp3iUA==&sidx=SHGHW90XIC2wMe/3KVZ8c0ofhOYwGodM2QedNwAOmFSoCxzHXG0UgJcOnR8oRyLRJQEQx72iipMYuiUE7pgYcgT94U3iuPQTazWRVoPUegv/ES506QK3ujhzTp4R0N9RHh/DP3jumUHK1pet3y0HFZXhZZzPW5crEEwPTybX0IJa/Zpg7jyNrSqpfo0WEUXyOy/VXc0LuFTBN7P/fAWZ6X78gN8U48yxNaQtmP9Wfh4+jhMhfx/dyItbFu7eu1v6PLSP4mf6vr1Jk4QA6MGao8F16VDZovs3I1RgNq0hDfpdn2KHYvTObz30RgrW4NpU90rapAeYbFgLr64JThe6Ig==\",id=\"tb-beacon-aplus\",src=(location>\"https\"?\"//g\":\"//g\")+\".alicdn.com/alilog/mlog/aplus_v2.js\")\\n</script><script type=\"text/javascript\">\\nwindow.TShop && TShop.setConfig && TShop.setConfig({token:\\'33b751b7673e\\',renderTime:\\'1619438051\\',bucketId:\\'5\\'});\\n</script>\\n\\n                                \\n\\n\\n\\n\\n\\n\\n    \\n    <style>\\nbutton {\\n  border-radius: 0;\\n}\\n</style>\\n<!--from fragment-->\\n<div id=\"site-nav\" data-spm=\"a2226mz\">\\n    <div id=\"sn-bg\">\\n        <div class=\"sn-bg-right\">\\n        </div>\\n    </div>\\n    <div id=\"sn-bd\">\\n        <b class=\"sn-edge\"></b>\\n        <div class=\"sn-container\">\\n            <p id=\"login-info\" class=\"sn-login-info\"></p>\\n            <ul class=\"sn-quick-menu\">\\n                <li class=\"sn-mytaobao menu-item j_MyTaobao\">\\n                    <div class=\"sn-menu\">\\n                        <a class=\"menu-hd\"\\n                           href=\"//i.taobao.com/my_taobao.htm\"\\n                           target=\"_top\" rel=\"nofollow\">我的淘宝<b></b></a>\\n                        <div class=\"menu-bd\">\\n                            <div class=\"menu-bd-panel\" id=\"myTaobaoPanel\">\\n                                <a href=\"//trade.taobao.com/trade/itemlist/list_bought_items.htm?t=20110530\"\\n                                   target=\"_top\" rel=\"nofollow\">已买到的宝贝</a>\\n                                <a href=\"//trade.taobao.com/trade/itemlist/list_sold_items.htm?t=20110530\"\\n                                   target=\"_top\" rel=\"nofollow\">已卖出的宝贝</a>\\n                            </div>\\n                        </div>\\n                    </div>\\n                </li>\\n                <li class=\"sn-seller-center hidden j_SellerCenter\">\\n                    <a target=\"_top\" href=\"//mai.taobao.com/seller_admin.htm\">商家中心</a>\\n                </li>\\n                <li class=\"sn-cart\"><i class=\"mui-global-iconfont\">&#xf0148;</i>\\n                    <a class=\"sn-cart-link\" href=\"//cart.tmall.com/cart/myCart.htm?from=btop\" target=\"_top\"\\n                       rel=\"nofollow\">购物车\\n                    </a>\\n                </li>\\n                <li class=\"sn-favorite menu-item\">\\n                    <div class=\"sn-menu\">\\n                        <a class=\"menu-hd\"\\n                           href=\"//shoucang.taobao.com/shop_collect_list.htm?scjjc=c1\"\\n                           target=\"_top\" rel=\"nofollow\">收藏夹<b></b></a>\\n\\n                        <div class=\"menu-bd\">\\n                            <div class=\"menu-bd-panel\">\\n                                <a href=\"//shoucang.taobao.com/item_collect.htm\" target=\"_top\"\\n                                   rel=\"nofollow\">收藏的宝贝</a>\\n                                <a href=\"//shoucang.taobao.com/shop_collect_list.htm\" target=\"_top\"\\n                                   rel=\"nofollow\">收藏的店铺</a>\\n                            </div>\\n                        </div>\\n                    </div>\\n                </li>\\n                <li class=\"sn-separator\"></li>\\n                <li class=\"sn-mobile\">\\n                    <i class=\"mui-global-iconfont\">&#x3448;</i>\\n                    <a title=\"天猫无线\" target=\"_top\" class=\"sn-mobile-link\" href=\"//pages.tmall.com/wow/portal/act/app-download?scm=1027.1.1.1\">手机版</a>\\n                </li>\\n                <li class=\"sn-home\">\\n                    <a href=\"//www.taobao.com/\">淘宝网</a>\\n                </li>\\n                <li class=\"sn-seller menu-item\">\\n                    <div class=\"sn-menu J_DirectPromo\">\\n                        <a class=\"menu-hd\" href=\"//mai.taobao.com\" target=\"_top\">商家支持<b></b></a>\\n                        <div class=\"menu-bd sn-seller-lazy\">\\n                        </div>\\n                    </div>\\n                </li>\\n                <li class=\"sn-sitemap\">\\n                    <div class=\"sn-menu\">\\n                        <h3 class=\"menu-hd\"><i class=\"mui-global-iconfont\">&#xe601;</i><span>网站导航</span><b></b></h3>\\n                        <div class=\"menu-bd sn-sitemap-lazy sn-sitemap-bd\" data-spm=\"a2228l4\">\\n                        </div>\\n                    </div>\\n                </li>\\n            </ul>\\n        </div>\\n    </div>\\n</div>\\n\\n\\n<div id=\"header\" class=\"tm-chn- \">\\n<!-- global logo 2019 -->\\n<div id=\"headerCon\">\\n        <h1 id=\"mallLogo\">\\n        <span class=\"mlogo\"><a href=\"//www.tmall.com/\" title=\"天猫Tmall.com\"><s></s>天猫Tmall.com</a></span>\\n    </h1>\\n    \\n        \\n        <div id=\"shopExtra\" data-spm=\"1997427721\">\\n    <div class=\"slogo\">\\n                <a class=\"slogo-shopname\" href=\"//yjyjjl.tmall.com\" data-spm=\"d4918089\"><strong>壹玖壹玖官方旗舰店</strong></a>\\n        <div class=\"slogo-extraicon  bShop \">\\n                                                <span class=\"flagship-icon\"><span class=\"flagship-icon-font\">品牌直销</span></span>\\n                                        <span class=\"slogo-ww J_WangWang\" data-nick=\"%E5%A3%B9%E7%8E%96%E5%A3%B9%E7%8E%96%E5%AE%98%E6%96%B9%E6%97%97%E8%88%B0%E5%BA%97\" data-tnick=\"%E5%A3%B9%E7%8E%96%E5%A3%B9%E7%8E%96%E5%AE%98%E6%96%B9%E6%97%97%E8%88%B0%E5%BA%97\" data-encode=\"true\" data-display=\"inline\"\\n                  data-icon=\"static\"></span>\\n        </div>\\n    </div>\\n    <div id=\"shop-info\">\\n    <div style=\"display:none\">\\n        <input type=\"hidden\" id=\"dsr-url\" value=\"//count.taobao.com/counter3?keys=SM_368_dsr-01bfe1ae54e9e0fb95f11305cf786cbb\"/>\\n        <input type=\"hidden\" id=\"dsr-userid\" value=\"726984974\"/>\\n        <input type=\"hidden\" id=\"dsr-ratelink\" value=\"//rate.taobao.com/user-rate-UMGILOFg0OFc0.htm\"/>\\n    </div>\\n        <script>\\n        window.g_config.tmShopAges = 10;\\n    </script>\\n        <div class=\"main-info\">\\n                                    <div class=\"shopdsr-item\">\\n                    <div class=\"shopdsr-title\">描 述</div>\\n                                            <div class=\"shopdsr-score shopdsr-score-equal-ctrl\"><span class=\"shopdsr-score-con\">4.8</span><s class=\"shopdsr-score-equal\"></s></div>\\n                                    </div>\\n                                        <div class=\"shopdsr-item\">\\n                    <div class=\"shopdsr-title\">服 务</div>\\n                                            <div class=\"shopdsr-score shopdsr-score-down-ctrl\"><span class=\"shopdsr-score-con\">4.8</span><s class=\"shopdsr-score-down\"></s></div>\\n                                    </div>\\n                                        <div class=\"shopdsr-item\">\\n                    <div class=\"shopdsr-title\">物 流</div>\\n                                            <div class=\"shopdsr-score shopdsr-score-equal-ctrl\"><span class=\"shopdsr-score-con\">4.8</span><s class=\"shopdsr-score-equal\"></s></div>\\n                                    </div>\\n                        <a class=\"slogo-triangle\"><i class=\"icon-triangle\"></i></a>\\n            </div>\\n                    <!--isHK:  ,isShow: false -->\\n    <div class=\"extra-info \">\\n        <textarea class=\"ks-datalazyload\">\\n                <div class=\"bd\">\\n            <div data-spm=\"d4918101\" class=\"shop-rate\">\\n                                    <h4>店铺动态评分<!--盟主aaa-->\\n                        <span class=\"compare\">与同行业相比</span>\\n                    </h4>\\n                    <ul>\\n                        <li>\\n                            描述相符：<a target=\"_blank\" href=\"//rate.taobao.com/user-rate-UMGILOFg0OFc0.htm\">\\n                                                            <em class=\"count\" title=\"4.8分\">4.8</em>\\n                                                    <span class=\"rateinfo\" title=\" 计算规则:(店铺得分-同行业平均分)/(同行业店铺最高得分-同行业平均分) \">\\n                                                                                                                    <b class=\"fair\"></b><em>--------</em>\\n                                                                                                            </span>\\n                                                    </a>\\n                        </li>\\n                        <li>\\n                            服务态度：<a target=\"_blank\" href=\"//rate.taobao.com/user-rate-UMGILOFg0OFc0.htm\">\\n                                                            <em class=\"count\" title=\"4.8分\">4.8</em>\\n                                                <span class=\"rateinfo\" title=\"计算规则:(同行业平均分-店铺得分)/(同行业平均分-同行业店铺最低得分)\">\\n                                                                                                            <b class=\"lower\"></b><em\\n                                                            class=\"lower\">0.65%</em>\\n                                                                                                    </span>\\n                                                    </a>\\n                        </li>\\n                        <li>\\n                            发货速度：<a target=\"_blank\" href=\"//rate.taobao.com/user-rate-UMGILOFg0OFc0.htm\">\\n                                                            <em class=\"count\" title=\"4.8分\">4.8</em>\\n                                                <span class=\"rateinfo\" title=\" 计算规则:(店铺得分-同行业平均分)/(同行业店铺最高得分-同行业平均分) \">\\n                                                                                                            <b class=\"fair\"></b><em>--------</em>\\n                                                                                                    </span>\\n                                                    </a>\\n                        </li>\\n                    </ul>\\n                            </div>\\n            <div class=\"extend\">\\n                <h4 class=\"title\">店铺服务</h4>\\n                <ul>\\n                    <li class=\"shopkeeper\">\\n                        <label>掌\\u3000\\u3000柜：</label>\\n                        <div class=\"right\">\\n                            <a href=\"//rate.taobao.com/user-rate-UMGILOFg0OFc0.htm\" data-spm=\"d4918097\">壹玖壹玖官方旗舰店</a>\\n                        </div>\\n                    </li>\\n\\n                    <li>\\n                        <label>客\\u3000\\u3000服：</label>\\n                        <div class=\"right\">\\n                                        <span class=\"J_WangWang ww-light ww-large\" data-nick=\"%E5%A3%B9%E7%8E%96%E5%A3%B9%E7%8E%96%E5%AE%98%E6%96%B9%E6%97%97%E8%88%B0%E5%BA%97\" data-tnick=\"%E5%A3%B9%E7%8E%96%E5%A3%B9%E7%8E%96%E5%AE%98%E6%96%B9%E6%97%97%E8%88%B0%E5%BA%97\"\\n                                              data-encode=\"true\" data-display=\"inline\" data-icon=\"static\"></span>\\n                        </div>\\n                    </li>\\n\\n                    \\n                                            <li>\\n                            <label>\\n                                开店时长：\\n                            </label>\\n                            <div class=\"right tm-shop-age\">\\n                            <span class=\"tm-shop-age-num\">10</span><span class=\"tm-shop-age-content\">天猫10年店</span>\\n\\n                            </div>\\n                        </li>\\n\\n                    \\n                    \\n\\n\\n                    <li class=\"locus\">\\n                        <label>\\n                            所 在 地：\\n                        </label>\\n                                                    <div class=\"right\">\\n                                四川,  成都\\n                            </div>\\n                                            </li>\\n                                            <li>\\n                            <label>企业资质：</label>\\n                            <div class=\"right\">\\n                                <a href=\"//zhaoshang.tmall.com/maintaininfo/liangzhao.htm?xid=01bfe1ae54e9e0fb95f11305cf786cbb\" class=\"tm-gsLink\" target=\"_blank\"><img width=\"20\" height=\"22\" src=\"//assets.alicdn.com/app/marketing/xfile/national_emblem_light.png\" alt=\"\"></a>\\n                                                                                    </div>\\n                        </li>\\n                                        \\n                    \\n                                    </ul>\\n            </div>\\n\\n            <div class=\"other\">\\n                <a class=\"enter-shop\" href=\"//yjyjjl.tmall.com\" data-spm=\"d4918105\"><i></i><span>进店逛逛</span></a>\\n                <a id=\"xshop_collection_href\"\\n                   href=\"//favorite.taobao.com/popup/add_collection.htm?id=67653130&amp;itemid=67653130&amp;itemtype=0&amp;ownerid=01bfe1ae54e9e0fb95f11305cf786cbb&amp;scjjc=2\"\\n                   mercury:params=\"id=67653130&itemid=67653130&itemtype=0&ownerid=01bfe1ae54e9e0fb95f11305cf786cbb\"\\n                   class=\"J_PopupTrigger collection xshop_sc J_TDialogTrigger J_TokenSign\" data-width=\"440\"\\n                   data-height=\"290\" data-closebtn=\"true\">\\n                    <i></i><span>收藏本店</span>\\n                </a>\\n            </div>\\n        </div>\\n        </textarea>\\n    </div>\\n    </div>\\n    </div>\\n    \\n<div class=\"header-extra\">\\n    <div id=\"mallSearch\" class=\"mall-search\">\\n                        <form name=\"searchTop\" action=\"//list.tmall.com/search_product.htm\"\\n              class=\"mallSearch-form\">\\n            <fieldset>\\n                <legend>天猫搜索</legend>\\n                <div class=\"mallSearch-input clearfix\">\\n                    <div class=\"defaultSearch\">\\n                        <input type=\"text\" name=\"q\"  accesskey=\"s\" autocomplete=\"off\" x-webkit-speech=\"\"\\n                               x-webkit-grammar=\"builtin:search\" value=\"\" id=\"mq\">\\n                        <button id=\"J_SearchBtn\" type=\"submit\">\\n                                                    搜天猫\\n                                                <s></s></button>\\n                                        </div>\\n                    <button id=\"J_CurrShopBtn\" class=\"currShopBtn\" type=\"button\">搜本店<s></s></button>\\n                    <input id=\"J_Type\" type=\"hidden\" name=\"type\" value=\"p\">\\n                    <input id=\"J_MallSearchStyle\" type=\"hidden\" name=\"style\" value=\"\">\\n                    <input id=\"J_Cat\" type=\"hidden\" name=\"cat\" value=\"all\">\\n                </div>\\n            </fieldset>\\n        </form>\\n    </div>\\n</div>\\n</div>\\n            <input id=\"J_ShopSearchUrl\" type=\"hidden\" value=\"//yjyjjl.tmall.com\" />\\n    </div>\\n\\n    \\n   <div data-spm=\"1998132232\" id=\"J_dingtian\">\\n    \\t\\t\\t\\n\\t\\t\\t<!--  ESIBanner开始 -->\\n\\t\\t<!-- position : TOP , params:  -->\\n\\t\\t\\t\\t\\t\\t<!--  ESIBanner结束 -->\\n\\t    </div>\\n    \\r\\n\\n            <div id=\"page\">\\n<div id=\"content\" data-cat=\"J_Cat\" data-type=\"normal\">\\n\\t\\t\\t\\t\\n\\n\\n\\t\\n\\t\\n\\t\\t\\t\\t<!-- 店铺异步，不会显示页头 -->\\r\\n\\t\\t<div id=\"J_DcHd\" class=\"J_DcAsyn tb-shop\"></div>\\r\\n\\t\\t<div id=\"detail\"><div id=\"J_DetailMeta\" class=\"tm-detail-meta tm-clear\">\\n<div class=\"tm-clear\">\\n\\r\\n\\t\\r\\n<div class=\"tb-property\">\\r\\n\\t\\t        <div class=\"tb-wrap\">\\r\\n\\t    \\t\\t\\t\\r\\n<div class=\"tb-detail-hd\">\\r\\n    \\r\\n  \\r\\n<h1 data-spm=\"1000983\">\\t\\r\\n\\t\\t\\t\\t\\t 【库存告急】贵州茅台生肖纪念酒猪年53度500ML酱香型白酒\\r\\n\\t</h1>\\r\\n\\r\\n\\t\\t\\t\\r\\n \\t<p>\\r\\n\\t\\t\\t\\t\\r\\n\\t\\t        \\t\\t\\t\\t\\t\\t\\t\\t\\t\\t\\t\\t\\t\\r\\n\\t\\t\\t</p>\\r\\n                                    </div>\\r\\n\\t\\t\\t\\t\\t\\t\\t \\t\\t\\t\\t<!--引入normalBasic-->\\r\\n\\t\\t\\t\\t<div class=\"tm-fcs-panel\">\\n    \\t\\t \\t    <dl class=\"tm-price-panel\" id=\"J_StrPriceModBox\">\\n        <dt class=\"tb-metatit\">价格</dt>\\n        <dd>\\n                        </dd>\\n    </dl>\\n\\t<script type=\"data/tpl\" id=\"J_PromoHintText\">\\n\\t\\t\\t\\t\\t<!--rullBanner ids:$ids true-->\\n\\n\\t\\t\\t</script> \\n                 <dl class=\"tm-promo-panel\" id=\"J_PromoPrice\" data-label=\"促销价\"><dt class=\"tb-metatit\">促销价</dt><dd></dd></dl>\\n</div>\\n<div class=\"tb-meta\">\\n     \\t        <dl class=\"tm-delivery-panel\" id=\"J_RSPostageCont\"><dt class=\"tb-metatit\">运费</dt><dd>\\n            <div class=\"tb-postAge\">\\n                <span id=\"J_AddrSelectTrigger\" class=\"mui_addr_tri\"  combo-level=\"3\">至&nbsp;杭州</span>\\n                <div id=\"J_PostageToggleCont\" class=\"tb-postAge-info\"></div>\\n\\t\\t\\t\\t            </div>\\n                    </dd></dl>\\n\\t    \\t \\r\\n\\t\\t\\t\\t\\t\\t\\t\\t\\t\\t\\t</div>\\n<ul class=\"tm-ind-panel\">\\n                 \\t\\t\\t<li class=\"tm-ind-item tm-ind-sellCount \" data-label=\"月销量\"></li>\\r\\n            <li class=\"tm-ind-item tm-ind-reviewCount\" id=\"J_ItemRates\"></li>\\r\\n    \\t\\r\\n\\t\\t\\t\\t\\t\\t\\t\\t                <li class=\"tm-ind-item tm-ind-emPointCount\" data-spm=\"1000988\">\\r\\n                    <a href=\"//vip.tmall.com/vip/index.htm\" target=\"_blank\">\\r\\n                        <span class=\"tm-label\">送天猫积分</span>\\r\\n                        <span class=\"tm-count\">\\r\\n                                                            2399\\r\\n                                                    </span>\\r\\n                    </a>\\r\\n                </li>\\r\\n\\t\\t\\t</ul>\\n\\n\\t\\t\\t\\t  \\t<div class=\"tb-key\">\\n\\t\\t<div class=\"tb-skin\">\\n    \\t\\t<div class=\"tb-sku\">\\n                \\t\\t\\t\\t\\t\\t\\t\\t\\t\\t\\t\\t        \\t\\t\\t\\t\\t\\t\\t\\t\\t\\t                \\t<dl class=\"tb-amount tm-clear\">\\r\\n\\t<dt  class=\"tb-metatit\">数量</dt>\\r\\n\\t<dd id=\"J_Amount\" >\\r\\n\\t\\t<span class=\"tb-amount-widget mui-amount-wrap\">\\r\\n\\t\\t\\t<input type=\"text\" class=\"tb-text mui-amount-input\" value=\"1\" maxlength=\"8\" title=\"请输入购买量\"/>\\r\\n\\t\\t\\t<span class=\"mui-amount-btn\">\\r\\n                <span class=\"mui-amount-increase\">&#xe614;</span>\\r\\n                <span class=\"mui-amount-decrease\">&#xe615;</span>\\r\\n\\t\\t\\t</span>\\r\\n\\t\\t\\t\\t\\t\\t<span class=\"mui-amount-unit\">件</span>\\r\\n\\t\\t\\t\\t\\t</span>\\r\\n\\t\\t\\t\\t\\t<em id=\"J_EmStock\" class=\"tb-hidden\">库存<span id=\"J_SpanStock\"></span>件</em>\\r\\n\\t\\t\\t\\t<span id=\\'J_StockTips\\'>\\r\\n\\t\\t\\t\\t\\t\\t\\t\\t\\t\\t\\t</span>\\r\\n\\t</dd>\\r\\n</dl>\\r\\n                                \\t\\t\\t\\t\\t\\t\\t\\t\\n        \\t\\t\\n    <dl id=\"J_Progressive\" class=\"tb-prop tm-clear tb-hidden\">\\n        <dt class=\"tb-metatit\">花呗分期</dt>\\n        <dd>\\n            <ul class=\"tm-clear\">\\n                <li><a href=\"#\"><span></span></a><i>已选中</i></li>\\n            </ul>\\n        </dd>\\n    </dl>\\n        \\t\\t<div class=\"tb-action tm-clear\">\\n\\t\\t\\t\\t\\t\\t\\t\\t\\t\\t\\t\\t\\t\\t\\t\\t\\t                <div  class=\"tb-btn-buy tb-btn-sku\" >\\n                    <a id=\"J_LinkBuy\" href=\"#\" rel=\"nofollow\"  data-addFastBuy=\"true\"  title=\"点击此按钮，到下一步确认购买信息。\">立即购买</a>\\n                </div>\\n\\t\\t\\t\\t\\t\\t\\t        \\t\\t\\t\\t\\t\\t            <div class=\"tb-btn-basket tb-btn-sku \"><a href=\"#\" rel=\"nofollow\" id=\"J_LinkBasket\"><i>&#xe612;</i>加入购物车</a></div>\\n\\t\\t\\t            <div class=\"tb-btn-add tb-btn-sku tb-hidden\"><a href=\"#\" rel=\"nofollow\" id=\"J_LinkAdd\"><i>&#xe612;</i>加入购物车</a></div>\\n        \\t\\t\\t</div>\\n        \\t\\t        \\t</div>\\n\\t\\t</div>\\n\\t</div>\\n\\t\\r\\n\\t\\t            <div class=\"tm-ser tm-clear\">\\n                                                        \\t            <dl class=\"tm-clear\">\\r\\n                                    <dt class=\"tb-metatit\">服务承诺</dt>\\r\\n                                <dd class=\"tm-laysku-dd\">\\r\\n                    <ul class=\"tb-serPromise\">\\r\\n                                                                                                                                                            <li ><a  href=\"//service.tmall.com/support/tmall/knowledge-1124463.htm?spm=0.0.0.0.sQftDN\"  title=\"不支持七天无理由退换\" target=\"_blank\">\\r\\n                                                                        不支持七天无理由退换\\r\\n                                </a></li>\\r\\n                                                            <li ><a  href=\"//pages.tmall.com/wow/jz/act/fuwuchengjie?wh_menu_key=psbp\"  title=\"签收后72小时（食品24小时）内，发现商品破损/漏液，商家承诺24小时内处理，信用评级极好用户享极速退。\" target=\"_blank\">\\r\\n                                                                        破损包退\\r\\n                                </a></li>\\r\\n                                                            <li ><a  href=\"//rule.tmall.com/tdetail-4400.htm\"  title=\"商品支持正品保障服务\" target=\"_blank\">\\r\\n                                                                        正品保证\\r\\n                                </a></li>\\r\\n                                                                                                                                                                <li ><a  href=\"//vip.tmall.com/vip/privilege.htm?spm=3.1000588.0.141.2a0ae8&amp;priv=speed\"  title=\"极速退款是为诚信会员提供的退款退货流程的专享特权，额度是根据每个用户当前的信誉评级情况而定\" target=\"_blank\">\\r\\n                                                                        极速退款\\r\\n                                </a></li>\\r\\n                                                                                                                            \\r\\n                                            </ul>\\r\\n                </dd>\\r\\n            </dl>\\r\\n                                \\t\\t\\t\\t\\t\\t            \\t<div class=\"tm-pay-box\">\\r\\n                <div class=\"tm-pay\">\\r\\n                    <em class=\"pay-title\">支付方式</em>\\r\\n\\t\\t\\t\\t                    <em title=\"显示所有信息\" class=\"pay-toggler\" id=\"J_Toggler\">更多信息</em>\\r\\n\\t\\t\\t\\t                    <div data-spm=\"1998099674\" class=\"pay-credit J_Paylist\" >\\r\\n\\t\\t\\t\\t\\t\\t\\t\\t\\t\\t\\t\\t\\t\\t\\t\\t\\t\\t\\t                                <a title=\"支持使用信用卡支付\" target=\"_blank\" href=\"//payservice.alipay.com/intro/index.htm?c=xyk\">信用卡<s style=\"background: url(//img.alicdn.com/tps/i4/TB1gNG3JpXXXXbcXVXXAz6UFXXX-16-16.png) no-repeat center center;\"></s></a>\\r\\n\\t\\t\\t\\t\\t\\t\\t\\t\\t\\t\\t\\t\\t\\t                                <a title=\"支持用绑定了支付宝的银行卡付款\" href=\"//payservice.alipay.com/intro/index.htm?c=kjzf\" target=\"_blank\">快捷支付 <s style=\"background: url(//gtms04.alicdn.com/tps/i4/TB1fnvXJpXXXXcTXpXXAz6UFXXX-16-16.png) no-repeat center center;\"></s></a>\\r\\n\\t\\t\\t\\t\\t\\t\\t\\t\\t\\t\\t\\t\\t\\t                                <a title=\"免费利用花呗额度支付，下月10号还款\" href=\"//payservice.alipay.com/intro/index.htm?c=hb\" target=\"_blank\">蚂蚁花呗 <s style=\"background: url(//gtms03.alicdn.com/tps/i3/TB1rf58JpXXXXc5XFXXAz6UFXXX-16-16.png) no-repeat center center;\"></s></a>\\r\\n\\t\\t\\t\\t\\t\\t\\t\\t\\t\\t\\t\\t\\t\\t\\t\\t\\t\\t\\t\\t\\t\\t\\t\\t\\t\\t\\t\\t\\t\\t\\t\\t\\t\\t\\t\\t\\t\\t\\t\\t\\t\\t                                <a title=\"支持使用余额宝付款，边赚边花\" href=\"//payservice.alipay.com/intro/index.htm?c=yeb\" target=\"_blank\">余额宝 <s style=\"background: url(//gtms02.alicdn.com/tps/i2/TB1HAHaJpXXXXX0XFXXAz6UFXXX-16-16.png) no-repeat center center;\"></s></a>\\r\\n\\t\\t\\t\\t\\t\\t\\t\\t\\t\\t\\t\\t\\t                    </div>\\r\\n                </div>\\r\\n            </div>\\r\\n\\t\\t\\t\\t\\t\\t    </div>\\n\\t\\t    \\t\\t\\t\\t\\t\\t\\r\\n\\t\\t\\r\\n    </div>\\r\\n</div>\\r\\n<div data-spm=\"1997427645\" class=\"tb-gallery\">\\t\\t\\t\\r\\n\\t\\r\\n\\t\\t\\t\\t\\r\\n\\r\\n \\t\\t\\r\\n\\r\\n<div class=\"tb-booth\">\\r\\n\\t<a href=\"javascript:void(0);\">\\r\\n\\t\\t<img id=\"J_ImgBooth\" alt=\"【库存告急】贵州茅台生肖纪念酒猪年53度500ML酱香型白酒\" src=\"//img.alicdn.com/imgextra/i3/726984974/O1CN01BlgXKm1mc8h9FmHg3_!!726984974.jpg_430x430q90.jpg\"   data-hasZoom=\"700\"    />\\r\\n\\t</a>\\r\\n</div>\\r\\n<div class=\"tb-thumb-warp \">\\r\\n\\t<a class=\"tb-thumb-left\"><i>&#xe631;</i></a>\\r\\n\\t<div class=\"tb-thumb-content\"> \\r\\n\\t\\t<ul id=\"J_UlThumb\" class=\"tb-thumb tm-clear\">\\r\\n\\t\\t\\t\\t\\t\\t\\t\\t\\t\\t\\t\\t<li class=\"\">\\r\\n\\t\\t\\t\\t\\t\\t \\t\\t\\t\\t\\t\\t<a href=\"#\"><img src=\"//img.alicdn.com/imgextra/i1/726984974/O1CN01jqBWUO1mc8hly4jC6_!!726984974-0-picasso.jpg_60x60q90.jpg\" /></a>\\r\\n\\t\\t\\t\\t\\t</li>\\r\\n\\t\\t\\t\\t\\t\\t\\t\\t\\t<li class=\"tb-selected\">\\r\\n\\t\\t\\t\\t\\t\\t\\t\\t\\t\\t\\t\\t<a href=\"#\"><img src=\"//img.alicdn.com/imgextra/i3/726984974/O1CN01BlgXKm1mc8h9FmHg3_!!726984974.jpg_60x60q90.jpg\" /></a>\\r\\n\\t\\t\\t\\t\\t</li>\\r\\n\\t\\t\\t\\t\\t\\t\\t\\t\\t<li class=\"\">\\r\\n\\t\\t\\t\\t\\t\\t\\t\\t\\t\\t\\t\\t<a href=\"#\"><img src=\"//img.alicdn.com/imgextra/i2/726984974/O1CN011HTvn31mc8hOZD6V1_!!726984974.jpg_60x60q90.jpg\" /></a>\\r\\n\\t\\t\\t\\t\\t</li>\\r\\n\\t\\t\\t\\t\\t\\t\\t\\t\\t<li class=\"\">\\r\\n\\t\\t\\t\\t\\t\\t\\t\\t\\t\\t\\t\\t<a href=\"#\"><img src=\"//img.alicdn.com/imgextra/i4/726984974/O1CN01LnuPFM1mc8h9FnQIQ_!!726984974.jpg_60x60q90.jpg\" /></a>\\r\\n\\t\\t\\t\\t\\t</li>\\r\\n\\t\\t\\t\\t\\t\\t\\t\\t\\t<li class=\"\">\\r\\n\\t\\t\\t\\t\\t\\t\\t\\t\\t\\t\\t\\t<a href=\"#\"><img src=\"//img.alicdn.com/imgextra/i1/726984974/O1CN011kXGcQ1mc8hDzwkZL_!!726984974.jpg_60x60q90.jpg\" /></a>\\r\\n\\t\\t\\t\\t\\t</li>\\r\\n\\t\\t\\t\\t\\t\\t\\t\\t\\t</ul>\\r\\n\\t</div>\\r\\n\\t<a class=\"tb-thumb-right\"><i>&#xe632;</i></a>\\r\\n</div>\\r\\n\\t\\t<p class=\"tm-action tm-clear\">\\n    <span id=\"J_EditItem\"></span>    \\n\\t\\t\\t        <a id=\"J_AddFavorite\" href=\"javascript:;\" data-aldurl=\"//ald.taobao.com/recommend.htm?appId=03136&itemId=602738760307 \" class=\"favorite\"><i></i><span>收藏商品</span></a>\\n\\t\\t\\t<!-- ruleBanner-->\\n\\t\\t\\t<script id=\"J_AddFavorite_Act\" type=\"text/template\">\\n\\t\\t\\t\\t<!--rullBanner ids:$ids true-->\\n\\n\\t\\t\\t</script>\\n\\t\\t\\t\\t<span id=\"J_CollectCount\"></span>    </p></div>\\r\\n \\r\\n \\t<form id=\"J_FrmBid\" name=\"bidForm\" action=\"\" method=\"post\">\\r\\n        <input type=\"hidden\" name=\"title\" value=\"【库存告急】贵州茅台生肖纪念酒猪年53度500ML酱香型白酒\" />\\r\\n\\t\\t<input type=\"hidden\" name=\"x_id\" value=\"\" />\\r\\n        <input type=\"hidden\" name=\"seller_id\" value=\"01bfe1ae54e9e0fb95f11305cf786cbb\" />\\r\\n\\t\\t<input type=\"hidden\" name=\"seller_nickname\" value=\"壹玖壹玖官方旗舰店\" />\\r\\n                 <input type=\"hidden\" name=\"who_pay_ship\" value=\"卖家承担运费\" />\\r\\n        <input type=\"hidden\" name=\"photo_url\" value= \"i1/726984974/O1CN01jqBWUO1mc8hly4jC6_!!726984974-0-picasso.jpg\" />        <input type=\"hidden\" name=\"region\" value=\"四川成都\" />    \\t<input type=\"hidden\" name=\"auto_post\" value=\"false\" />\\r\\n                \\t<input type=\"hidden\" name=\"etm\" value=\"post\" />\\r\\n                \\r\\n        <input type=\"hidden\" name=\"virtual\" value=\"false\" />\\r\\n    \\t<input type=\"hidden\" name=\"rootCatId\" value=\"50008141\" />    \\t\\r\\n\\t\\t<input type=\"hidden\" name=\"auto_post1\" value=\"\" />\\r\\n\\t\\t\\r\\n\\t\\t    \\t\\r\\n\\t\\t<input type=\"hidden\" id=\"buyer_from\" name=\"buyer_from\" value=\"\"/>\\r\\n\\t\\r\\n\\r\\n    </form>\\r\\n\\t\\t\\t \\r\\n\\r\\n\\r\\n\\n<script>\\r\\nvar shopSearchStartTime = \"2016-11-10 10:00:00\";\\r\\nvar shopSearchEndTime = \"2016-11-12 10:00:00\";\\r\\n\\r\\nvar showCompanyPurchaseTips = true;\\r\\n\\r\\nvar _DATA_FAST_PUSH_ESI={aldRule:{min:80,max:99,mod:70},superDestory:[{\"selector\":\\'#sg-taobaoAssistant\\'},{\"selector\":\\'#sogouCollection\\'}]}\\r\\n</script>\\r\\n<script>\\r\\nif(Math.ceil(Math.random()*1000)==1){KISSY.getScript(\\'//g.tbcdn.cn/mm/doctor/1.2.11/icon.min.js\\')}\\r\\n</script>\\n \\r\\n\\t<script>\\r\\n\\tTShop.poc(\\'buyshow\\');\\r\\n    (function () {\\r\\n\\t\\tTShop.setConfig({\\r\\n\\t\\tdetail:{\\r\\n\\t\\t\\t\"hideRightRecommend\": false ,\\r\\n\\t\\t\\t\"showBacktop\": true ,\\r\\n\\t\\t\\t\"showCartRecommend\": true ,\\r\\n\\t\\t\\t\"showTabbarRecommend\": true ,\\r\\n\\t\\t\\t\"showAlbumRecommend\": true , \\r\\n\\t\\t\\t\"showDownShelfRecommend\": true ,\\r\\n\\t\\t\\t\"showRightRecommend\": true ,\\r\\n\\t\\t\\t\"showStandardGuide\": true \\t\\t},\\r\\n\\t\\t\\n\\n\\n\\n\\t\\n\\n\\t\\n\"noSkipMode\":{\\n\\ttimeout : 8000,\\n\\ttradeResult:{\\n\\t\\tcartEnable: true ,\\n        cartType:2,\\n        tradeEnable: true ,\\n        tradeType: 2 ,\\n        tradeDisableTypeEnum:\"\"    }\\n\\t\\t},\\r\\n\\t\\t\\t\\t\"descAnchors\":[{\"anchorId\":\"desc-module-1\",\"markId\":\"28\",\"moduleId\":28,\"moduleName\":\"视频推介\",\"type\":\"cat_mod\"}]\\r\\n\\t\\t\\t});\\r\\n\\t\\r\\n\\t  TShop.Setup(\\r\\n\\t  \\t{\"valLoginIndicator\":\"//buy.taobao.com/auction/buy.htm?from=itemDetail&id=602738760307\",\"isShowSizeRecommend\":false,\"isDoubleElevenItem\":true,\"isHouseholdService\":false,\"isSevenDaysRefundment\":false,\"apiBidCount\":\"//tbskip.taobao.com/json/show_bid_count.htm?itemNumId=602738760307&old_quantity=348&date=1618912695000\",\"valTimeLeft\":93267,\"standingDate\":0,\"tradeParams\":{},\"api\":{\"descUrl\":\"//dscnew.taobao.com/i4/600/731/602738760307/TB1t8BigCf2gK0jSZFP8qtsopla.desc%7Cvar%5Edesc%3Bsign%5Ee6c94f31823cab0a4c2d63058f1c00f6%3Blang%5Egbk%3Bt%5E1619399428\",\"httpsDescUrl\":\"//descnew.taobao.com/i4/600/731/602738760307/TB1t8BigCf2gK0jSZFP8qtsopla.desc%7Cvar%5Edesc%3Bsign%5Ee6c94f31823cab0a4c2d63058f1c00f6%3Blang%5Egbk%3Bt%5E1619399428\",\"fetchDcUrl\":\"//hdc1new.taobao.com/asyn.htm?pageId=1407059826&userId=726984974\"},\"tag\":{\"isShowMeiliXinde\":false,\"isMedical\":false,\"isRightRecommend\":true,\"isShowEcityIcon\":false,\"isShowYuanchuanIcon\":false,\"isBrandAttr\":true,\"isShowTryReport\":false,\"isAsynDesc\":true,\"isBrandSiteRightColumn\":true,\"isShowHouseIcon\":false},\"isService\":false,\"isTripUser\":false,\"cmCatId\":\"2\",\"cartEnable\":true,\"renderSystemServer\":\"//render.taobao.com\",\"carCascade\":false,\"isWTContract\":false,\"isOnlyInMobile\":false,\"isAreaSell\":true,\"isMultiPoint\":false,\"isShowSizeHelper\":false,\"isMeiz\":false,\"newSelectCityApi\":\"//mdskip.taobao.com/json/detailSelectCity.do?isAreaSell=true&itemId=602738760307\",\"initCspuExtraApi\":\"//ext-mdskip.taobao.com/extension/initCspuExtra.htm\",\"detail\":{\"isMemberShopItem\":false,\"isBundleItem\":false,\"canEditInItemDet\":true,\"isAllowReport\":true,\"isHiddenShopAction\":false,\"isDownShelf\":false,\"is0YuanBuy\":false,\"isCarService\":false,\"isShowEcityBasicSign\":false,\"isItemAllowSellerView\":true,\"goNewAuctionFlow\":false,\"isShowEcityVerticalSign\":false,\"reviewListType\":1,\"rxShowTitle\":\"本品为处方药，请在医师指导下使用。\",\"isVaccine\":false,\"isHasPos\":true,\"recommendBigMarkDownEndTime\":\"1477880000000\",\"isAutoYushou\":false,\"isOnePriceCar\":false,\"isVitual3C\":false,\"rxIcon\":\"https://gw.alicdn.com/tfs/TB13T_zHHrpK1RjSZTEXXcWAVXa-216-84.png\",\"isFullCarSell\":false,\"isHideAttentionBtn\":false,\"isNABundleItem\":false,\"double11StartTime\":\"\",\"showDiscountRecommend\":false,\"enableAliMedicalComponent\":true,\"isOtcDrug\":false,\"isYYZY\":false,\"mlhNewDesc\":false,\"isMainLiaoSku\":false,\"isHkMilk\":false,\"isEnableAppleSku\":true,\"isHkItem\":false,\"isShowContentModuleTitle\":false,\"isRx2Count\":true,\"isHiddenNonBuyprice\":false,\"isH5NewLogin\":true,\"isHkO2OItem\":false,\"isSavingEnergy\":false,\"showFushiPoiInfo\":false,\"defaultItemPrice\":\"4799.00\",\"globalSellItem\":false,\"isShowEcityDesc\":false,\"isSkuColorShow\":false,\"autoccUser\":false,\"isMenDianInventroy\":false,\"isMeilihui\":false,\"isLadderGroupon\":false,\"isHidePoi\":false,\"isNewAttraction\":false,\"isPreSellBrand\":false,\"loginBeforeCart\":false,\"isAutoFinancing\":false,\"showSuperMarketBuy\":false,\"isPrescriptionDrug\":false,\"isHasQualification\":false,\"recommendBigMarkDownStartTime\":\"1478793600000\",\"pageType\":\"default\",\"isIFCShop\":false,\"isAlicomMasterCard\":false,\"isCarCascade\":false,\"isDianQiMeiJia\":false,\"isSkuMemorized\":false,\"addressLevel\":3,\"isRx2\":false,\"isTeMai\":false,\"allowRate\":true,\"isShowPreClosed\":false,\"isO2OStaging\":false,\"isPurchaseMallVipBuyer\":false,\"cdn75\":false,\"isNewMedical\":false,\"isCarYuEBao\":false,\"isAliHouse\":false,\"isCyclePurchase\":false,\"isChineseMedicinalMaterial\":false,\"isAliTelecomNew\":false,\"show9sVideo\":true,\"isHkDirectSale\":false,\"isTspace\":false,\"tryReportDisable\":false,\"isB2Byao\":false,\"isRegionLevel\":true,\"isContractPhoneItem\":false,\"isYY\":false,\"supermarketAndQianggou\":false,\"isZhengChe\":false,\"isDianZiMendian\":false,\"isNextDayService\":true,\"timeKillAuction\":false},\"apiAddCart\":\"//cart.taobao.com/add_cart_item.htm?item_id=602738760307\",\"apiBeans\":\"//count.taobao.com/counter3?keys=SM_368_dsr-726984974,ICCP_1_602738760307\",\"idsMod\":[],\"initApi\":\"//mdskip.taobao.com/core/initItemDetail.htm?isUseInventoryCenter=true&cartEnable=true&service3C=false&isApparel=false&isSecKill=false&tmallBuySupport=true&isAreaSell=true&tryBeforeBuy=false&offlineShop=false&itemId=602738760307&showShopProm=false&isPurchaseMallPage=false&itemGmtModified=1619424137000&isRegionLevel=true&household=false&sellerPreview=false&queryMemberRight=true&addressLevel=3&isForbidBuyItem=false\",\"valPointTimes\":1.0,\"changeLocationApi\":\"//mdskip.taobao.com/core/changeLocation.htm?isUseInventoryCenter=true&cartEnable=true&sellerUserTag3=144185556853620864&service3C=false&sellerUserTag2=18020085048279048&isSecKill=false&isAreaSell=true&sellerUserTag4=35188803405187&offlineShop=false&itemId=602738760307&sellerUserTag=125812588&showShopProm=false&tgTag=false&isPurchaseMallPage=false&isRegionLevel=true&household=false&notAllowOriginPrice=false&addressLevel=3\",\"isTmallComboSupport\":false,\"serviceIconList\":[],\"valPointRate\":0.5,\"tradeType\":2,\"valMode\":128,\"initExtraApi\":\"//ext-mdskip.taobao.com/extension/initExtra.htm\",\"itemDO\":{\"isInRepository\":false,\"isSupportTryBeforeBuy\":false,\"reservePrice\":\"4799.00\",\"isSecondKillFromMobile\":false,\"cspuCategorySwitch\":false,\"isOnline\":true,\"title\":\"【库存告急】贵州茅台生肖纪念酒猪年53度500ML酱香型白酒\",\"isEnterprisePath\":false,\"showCompanyPurchase\":false,\"isDcAsyn\":true,\"feature\":\"1\",\"attachImgUrl\":[],\"isElecCouponItem\":false,\"brandSiteId\":\"0\",\"brandSpecialSold\":\"false\",\"sellerNickName\":\"%E5%A3%B9%E7%8E%96%E5%A3%B9%E7%8E%96%E5%AE%98%E6%96%B9%E6%97%97%E8%88%B0%E5%BA%97\",\"isSecondKillFromPC\":false,\"auctionType\":\"b\",\"encryptSellerId\":\"UMGILOFg0OFc0\",\"prov\":\"四川\",\"brand\":\"茅台\",\"isDefaultChooseTryBeforeBuy\":false,\"quantity\":185,\"isBidden\":false,\"hasSku\":false,\"isNewProGroup\":false,\"weight\":\"0\",\"userId\":\"726984974\",\"rootCatId\":\"50008141\",\"itemId\":\"602738760307\",\"validatorUrl\":\"//store.taobao.com/tadget/shop_stats.htm\",\"isCustomizedItem\":false,\"auctionStatus\":\"0\",\"isSecondKillFromPCAndWap\":false,\"brandId\":\"4101168\",\"sellProgressiveRate\":\"3_100_1.60;6_0_4.50;9_0_6.00\",\"spuId\":\"1358143318\",\"categoryId\":\"50008144\"},\"rateConfig\":{\"itemId\":602738760307,\"sellerId\":726984974,\"rateScoreCacheDisable\":false,\"rateSubjectDisable\":false,\"tryReportDisable\":false,\"rateScoreDisable\":false,\"rateEnable\":true,\"spuId\":1358143318,\"rateNewChartDisable\":false,\"listType\":1,\"rateCloudDisable\":false},\"rstShopId\":67653130,\"tmallRateType\":0,\"selectRegionApi\":\"//mdskip.taobao.com/core/selectRegion.do?isAreaSell=true&itemId=602738760307\",\"apiItemViews\":\"//count.taobao.com/counter2?keys=ICVT_7_602738760307&inc=ICVT_7_602738760307&sign=85725a649067054e98470f8e7ef595b3eba\",\"tagsId\":\"123905,166402,2049,249858,6146,221697,109570,144385,470018,490498,4614,1547,2059,16395,18955,23563,1478146,1530370,1540098,1807362,1618946,1665026,1673218,1837058,1875970,89665,107585,30273,29761,36417,37953,39489,249922,49218,200257,218177,222785,237121,253505,137281,156225,189505,442434,453186,455234,281666,4678,4166,369218,587,1611,2635,7755,1443906,1499202,1414210,1791554,1798210,1624130,1652290,1845314,105601,115329,30337,30849,22145,34433,51329,64129,249986,2178,28802,218241,222337,252033,131713,150145,288386,785538,1163,1675,651,22155,1478274,1506946,1508482,1518722,1434754,1712770,1791618,1838722,73409,68289,84673,108225,140994,28353,20673,29889,30401,37569,15554,25282,104130,165057,177857,493250,267970,288962,317634,4811,7371,23755,1252034,1297090,1484482,1562306,1334466,1400514,1721538,1829570,1600194,1619138,101121,112385,120577,30977,6401,20737,31489,37633,65281,258,21762,215809,224001,242433,249601,192769,5383,349442,388354,391426,542466,7947,1286402,1477890,1481986,1391874,1440514,1777922,1619202,1703682,1839874,1859330,84801,87361,122177,165186,22337,24385,36161,39233,21826,255297,141121,170817,521538,294210,3911,7495,11079,368450,764738,843,11083,1448258,1474370,1477954,1389890,1619266,1644354,1648450,1649474,1670466,1678146,1686850,73089,95105,68481,87425,106881,30593,35713,199553,226689,101762,159617,180097,186753,191361,191873,444802,273282,299394,3974,7046,348546,349570,369026,2443,4491,23947,1288066,1470338,1478018,1478530,1484162,1502082,1502594,1519490,1769346,1797506,1803138,1823618,1892226,67521,69057,106433,107457,33217,40897,41922,218049,155073,113602,150465,179649,189889,191425,299458,4550,1478,360386,364482,761282,531906,1995,2507,6603,1253314,1295298,1484226,1493954,1497538,1502658,1528770,1561026,1366978,1832898,1615810,1618882,1649090,1664962,1678274,1691586\",\"url\":{\"tbskip\":\"//tbskip.taobao.com\",\"mdskip\":\"//mdskip.taobao.com\",\"tradeForOldTmallBuy\":\"//stay.buy.tmall.com/order/confirm_order.htm\",\"tgDetailDomain\":\"//detail.ju.taobao.com\",\"detailServer\":\"//detail.taobao.com\",\"buyBase\":\"//buy.taobao.com/auction\",\"mallList\":\"//list.tmall.com\",\"extMdskip\":\"//ext-mdskip.taobao.com\",\"xCrossServer\":\"//mdetail.tmall.com\",\"tgDomain\":\"//ju.taobao.com\",\"rate\":\"//rate.tmall.com\",\"tradeBaseUrl\":\"//trade.taobao.com/trade\",\"topUploadServerBaseUrl\":\"//upload.taobao.com\",\"BIDRedirectionitemDomain\":\"//paimai.taobao.com\"},\"tradeConfig\":{\"1\":\"//buy.taobao.com/auction/buy_now.jhtml\",\"2\":\"//buy.tmall.com/order/confirm_order.htm\",\"3\":\"//obuy.tmall.com/home/order/confirm_order.htm\",\"4\":\"\",\"7\":\"//tw.taobao.com/buy/auction/buy_now.jhtml\"},\"valCartInfo\":{\"itemId\":\"602738760307\",\"cartUrl\":\"//cart.taobao.com/my_cart.htm?from=bdetail\",\"statsUrl\":\"//go.mmstat.com/1.gif?logtype=2&category=cart_{loc}_50008144\"},\"isAliTripHK\":false,\"selectCityApi\":\"//mdskip.taobao.com/core/selectCity.htm?isAreaSell=true&itemId=602738760307\",\"getProgressiveInfoApi\":\"//mdskip.taobao.com/core/getProgressiveInfo.do?platform_type=b2c&fromTryBeforeBuy=false&sellerId=726984974&platform=tmall&category=50008144&sellerPercent=3_100_1.60;6_0_4.50;9_0_6.00\"}\\r\\n\\t  );\\r\\n})();\\r\\n</script>\\r\\n\\r\\n</div>\\n<!-- ruleBanner-->\\n\\t<script id=\"J_SpuMore_Act\" type=\"text/template\">\\n\\t\\t<!--rullBanner ids:$ids true-->\\n\\n\\t</script>\\n\\t</div>\\n</div>\\n\\t\\n\\t\\t\\t\\t\\t\\t\\t\\t\\t\\t\\n\\t\\t                                  \\t\\t<div id=\"J_ShopPromtion\"><!-- --></div>\\t\\n\\t            <div id=\"bd\">\\n\\t        <div class=\"grid-s5m0 tm-clear\">\\n\\t            <div class=\"col-main tm-clear\">\\n\\t                <div id=\"mainwrap\" class=\"main-wrap\">\\n\\t\\t\\t\\t\\t\\t\\t\\t\\t\\t\\t\\t\\t\\t\\t                                                         \\t\\t\\t\\t\\t\\t\\t\\t\\t\\t\\t\\t<div id=\"J_TabBarBox\"><ul id=\"J_TabBar\" class=\"tabbar tm-clear\"></ul></div>\\r\\n\\t\\t\\t\\t\\t\\t\\t\\t\\t\\t\\t\\t\\r\\n <div id=\"attributes\" class=\"attributes\">\\r\\n\\r\\n\\r\\n<div class=\"auth-wrap\">\\r\\n\\t<ul class=\"auth-list\">\\r\\n\\t\\t\\t\\t\\t\\t\\t                \\t\\t\\t\\t    \\t\\t\\t\\t<li>商品具有<a target=\"_blank\" href=\"//baike.taobao.com/view.htm?tp=18&wd=SC11552038220099\">生产许可证编号</a>，符合食品质量安全准入标准。</li>\\r\\n    \\t\\t\\t\\t\\t\\t\\t\\t\\t\\t                        \\t\\t\\t\\t\\t\\t\\t</ul>\\r\\n</div>\\r\\n\\t\\t<div class=\"attributes-list\" id=\"J_AttrList\">\\n                \\n\\n\\t\\t\\t\\t\\t            <div class=\"tm-clear tb-hidden tm_brandAttr\" id=\"J_BrandAttr\"></div>\\n\\t\\t\\t\\t\\t\\t\\t\\t\\t\\t\\t\\t\\t\\t<p class=\"attr-list-hd tm-clear\"><em>产品参数：</em></p>\\n\\t\\t\\t\\t<ul id=\"J_AttrUL\">\\n                    <li title=\"SC11552038220099\">生产许可证编号：SC11552038220099</li>        <li title=\"贵州茅台酒股份有限公司\">厂名：贵州茅台酒股份有限公司</li>    <li title=\"贵州省仁怀市茅台镇;贵州省仁怀市茅台镇玉屏社区;贵州省习水县习酒镇黄金坪村;贵州省习水县习酒镇瓮坪村\">厂址：贵州省仁怀市茅台镇;贵州省仁怀市茅台镇玉屏社区;贵州省习水县习酒镇黄金坪村;贵州省习水县习酒镇瓮坪村</li>    <li title=\"400-999-1919\">厂家联系方式：400-999-1919</li>            <li title=\"3650\">保质期：3650 天</li>    \\n\\t\\t\\t\\t                \\t\\t\\t\\t    \\t\\t\\t\\t\\t\\t\\t\\t\\t\\t\\t\\t\\t\\t\\t\\t\\t\\t\\t\\t\\t\\t\\t\\t\\t\\t\\t\\t\\t\\t\\t\\t\\t\\t\\t\\t\\t\\t\\t\\t\\t\\t\\t\\t\\t\\t\\t\\t\\t\\t\\t\\t\\t\\t\\t\\t\\t\\t\\t\\n\\t\\t\\t\\t\\t\\t\\t\\t\\t\\t\\t\\t\\t\\t\\t\\t\\t\\t\\t                                            <li id=\"J_attrBrandName\" title=\"&nbsp;茅台\">品牌:&nbsp;茅台</li>\\n\\t\\t\\t\\t\\t\\t\\t\\t\\t\\t\\t\\t\\t\\t\\t\\t\\t\\t\\t\\t\\t\\t\\t\\t\\t\\t\\t\\t\\t\\t\\t\\t\\t\\t\\t\\t\\t\\t\\t\\t\\t\\t\\t\\t\\t\\t\\t\\t\\t\\t\\t\\t\\t\\t\\t\\t\\t\\t\\t\\t\\t\\t\\t\\t\\t\\t\\t\\t\\t\\t\\t\\t\\t\\t\\t\\t\\t\\t\\t\\t\\t\\t\\t\\t\\t\\t\\t\\t\\t\\t\\t\\t\\t\\t\\t\\t\\n\\t\\t\\t\\t\\t\\t\\t\\t\\t\\t\\t\\t\\t\\t\\t\\t\\t\\t<li title=\"&nbsp;茅台猪年纪念酒单瓶套装①\">品名:&nbsp;茅台猪年纪念酒单瓶套装①</li>\\n                                \\t\\t\\t\\t\\t\\t\\t\\t\\t\\t\\t\\t\\t\\t\\t\\t\\t\\t\\t\\t\\t\\t\\t\\t\\t\\t\\t\\t\\t\\t\\t\\t\\t\\t\\t\\t\\t\\t\\t\\t\\t\\t\\t\\t\\t\\t\\t\\t\\t\\t\\t\\t\\t\\t\\t\\t\\t\\t\\t\\t\\t\\t\\t\\t\\t\\t\\t\\t\\t\\t\\t\\t\\t\\t\\t\\t\\t\\n\\t\\t\\t\\t\\t\\t\\t\\t\\t\\t\\t\\t\\t\\t\\t\\t\\t\\t<li title=\"&nbsp;贵州\">省份:&nbsp;贵州</li>\\n                                \\t\\t\\t\\t\\t\\t\\t\\t\\t\\t\\t\\t\\t\\t\\t\\t\\t\\t\\t\\t\\t\\t\\t\\t\\t\\t\\t\\t\\t\\t\\t\\t\\t\\t\\t\\t\\t\\t\\t\\t\\t\\t\\t\\t\\t\\t\\t\\t\\t\\t\\t\\t\\t\\t\\t\\t\\t\\t\\t\\t\\t\\t\\t\\t\\t\\t\\t\\t\\t\\t\\t\\t\\t\\t\\t\\t\\t\\n\\t\\t\\t\\t\\t\\t\\t\\t\\t\\t\\t\\t\\t\\t\\t\\t\\t\\t<li title=\"&nbsp;中国大陆地区\">产地:&nbsp;中国大陆地区</li>\\n                                \\t\\t\\t\\t\\t\\t\\t\\t\\t\\t\\t\\t\\t\\t\\t\\t\\t\\t\\t\\t\\t\\t\\t\\t\\t\\t\\t\\t\\t\\t\\t\\t\\t\\t\\t\\t\\t\\t\\t\\t\\t\\t\\t\\t\\t\\t\\t\\t\\t\\t\\t\\t\\t\\t\\t\\t\\t\\t\\t\\t\\t\\t\\t\\t\\t\\t\\t\\t\\t\\t\\t\\t\\t\\t\\t\\t\\t\\n\\t\\t\\t\\t\\t\\t\\t\\t\\t\\t\\t\\t\\t\\t\\t\\t\\t\\t<li title=\"&nbsp;500ml\">净含量:&nbsp;500ml</li>\\n                                \\t\\t\\t\\t\\t\\t\\t\\t\\t\\t\\t\\t\\t\\t\\t\\t\\t\\t\\t\\t\\t\\t\\t\\t\\t\\t\\t\\t\\t\\t\\t\\t\\t\\t\\t\\t\\t\\t\\t\\t\\t\\t\\t\\t\\t\\t\\t\\t\\t\\t\\t\\t\\t\\t\\t\\t\\t\\t\\t\\t\\t\\t\\t\\t\\t\\t\\t\\t\\t\\t\\t\\t\\t\\t\\t\\t\\t\\n\\t\\t\\t\\t\\t\\t\\t\\t\\t\\t\\t\\t\\t\\t\\t\\t\\t\\t<li title=\"&nbsp;盒装\">包装种类:&nbsp;盒装</li>\\n                                \\t\\t\\t\\t\\t\\t\\t\\t\\t\\t\\t\\t\\t\\t\\t\\t\\t\\t\\t\\t\\t\\t\\t\\t\\t\\t\\t\\t\\t\\t\\t\\t\\t\\t\\t\\t\\t\\t\\t\\t\\t\\t\\t\\t\\t\\t\\t\\t\\t\\t\\t\\t\\t\\t\\t\\t\\t\\t\\t\\t\\t\\t\\t\\t\\t\\t\\t\\t\\t\\t\\t\\t\\t\\t\\t\\t\\t\\n\\t\\t\\t\\t\\t\\t\\t\\t\\t\\t\\t\\t\\t\\t\\t\\t\\t\\t<li title=\"&nbsp;酱香型\">香型:&nbsp;酱香型</li>\\n                                \\t\\t\\t\\t\\t\\t\\t\\t\\t\\t\\t\\t\\t\\t\\t\\t\\t\\t\\t\\t\\t\\t\\t\\t\\t\\t\\t\\t\\t\\t\\t\\t\\t\\t\\t\\t\\t\\t\\t\\t\\t\\t\\t\\t\\t\\t\\t\\t\\t\\t\\t\\t\\t\\t\\t\\t\\t\\t\\t\\t\\t\\t\\t\\t\\t\\t\\t\\t\\t\\t\\t\\t\\t\\t\\t\\t\\t\\n\\t\\t\\t\\t\\t\\t\\t\\t\\t\\t\\t\\t\\t\\t\\t\\t\\t\\t<li title=\"&nbsp;1年及以下\">年份:&nbsp;1年及以下</li>\\n                                \\t\\t\\t\\t\\t\\t\\t\\t\\t\\t\\t\\t\\t\\t\\t\\t\\t\\t\\t\\t\\t\\t\\t\\t\\t\\t\\t\\t\\t\\t\\t\\t\\t\\t\\t\\t\\t\\t\\t\\t\\t\\t\\t\\t\\t\\t\\t\\t\\t\\t\\t\\t\\t\\t\\t\\t\\t\\t\\t\\t\\t\\t\\t\\t\\t\\t\\t\\t\\t\\t\\t\\t\\t\\t\\t\\t\\t\\n\\t\\t\\t\\t\\t\\t\\t\\t\\t\\t\\t\\t\\t\\t\\t\\t\\t\\t<li title=\"&nbsp;包装\">包装方式:&nbsp;包装</li>\\n                                \\t\\t\\t\\t\\t\\t\\t\\t\\t\\t\\t\\t\\t\\t\\t\\t\\t\\t\\t\\t\\t\\t\\t\\t\\t\\t\\t\\t\\t\\t\\t\\t\\t\\t\\t\\t\\t\\t\\t\\t\\t\\t\\t\\t\\t\\t\\t\\t\\t\\t\\t\\t\\t\\t\\t\\t\\t\\t\\t\\t\\t\\t\\t\\t\\t\\t\\t\\t\\t\\t\\t\\t\\t\\t\\t\\t\\t\\n\\t\\t\\t\\t\\t\\t\\t\\t\\t\\t\\t\\t\\t\\t\\t\\t\\t\\t<li title=\"&nbsp;53%Vol.\">度数:&nbsp;53%Vol.</li>\\n                                \\t\\t\\t\\t\\t\\t\\t\\t\\t\\t\\t\\t\\t\\t\\t\\t\\t\\t\\t\\t\\t                        <!-- 健字号相关-->\\n\\t\\t\\t\\t\\t\\t\\t    </ul>\\n\\t\\t\\t\\n\\t\\t\\t\\t\\t\\t\\t\\t\\t    \\t\\t\\t\\t\\t\\t\\t<div class=\"tb-validity\">\\n\\t\\t\\t\\t\\t<img src=\"//img.alicdn.com/tps/i2/T1BzTmXnNbXXX1azE.-13-13.png\" width=\"13\" height=\"13\">\\n                    生产日期:\\n\\t\\t\\t\\t\\t\\t\\t\\t\\t\\t\\t2019-01-01 \\t\\t\\t\\t\\t\\t\\t\\t\\t\\t\\t 至 2020-06-10\\t\\t\\t\\t\\t\\t\\t\\t\\t</div>\\n\\t\\t\\t\\t\\t\\t\\t\\t\\t</div>\\n    <div class=\"attr-alert\" style=\"background-image:url()\">\\r\\n\\t\\t\\t\\t\\t<div>\\r\\n\\t\\t\\t\\t<b>消费提醒：</b>\\r\\n\\t\\t\\t\\t<span>未成年人请勿购买酒类商品；孕妇请勿饮酒；酒后请勿驾车。</span>\\r\\n\\t\\t\\t</div>\\r\\n\\t\\t\\t\\t\\r\\n\\t</div>\\r\\n</div>\\r\\n\\r\\n\\r\\n\\t<div id=\\'J_LadeMap\\'></div>\\r\\n\\r\\n\\t\\t<div id=\"mall-banner\">\\r\\n\\t\\t\\t\\t <div data-spm=\"1998132255\">\\r\\n\\t\\t \\t\\t\\t\\n\\t\\t\\t<!--  ESIBanner开始 -->\\n\\t\\t<!-- position : MIDDLE , params:  -->\\n\\t\\t\\t\\t\\t\\t<!--  ESIBanner结束 -->\\n\\t\\t\\t </div>\\r\\n\\t\\t\\t\\t<!-- ruleBanner-->\\r\\n\\t\\t<div id=\"J_DescTMS1\">\\r\\n\\t\\t\\t<!--rullBanner ids:$ids true-->\\n\\r\\n\\t\\t</div>\\r\\n\\t\\t\\r\\n\\t\\t\\t\\t\\t\\t\\t\\r\\n\\t     \\t    \\t\\t\\t\\t\\t\\t\\t\\t\\t\\t\\t\\t\\t\\r\\n\\t\\t\\t\\t\\t\\t\\t\\t\\t\\t\\t\\t\\t\\t    \\t</div>\\r\\n<div id=\"J_TmpActBanner\"></div>\\r\\n\\r\\n\\t\\t\\t\\t\\t\\t\\n\\t\\t\\t\\t\\t\\t<div id=\"J_DcTopRightWrap\">\\r\\n\\t\\t\\t<div id=\"J_DcTopRight\" class=\"J_DcAsyn tb-shop\"></div>\\r\\n\\t</div>\\t                \\t\\t                     <div id=\"description\" class=\"J_DetailSection tshop-psm tshop-psm-bdetaildes\">\\n\\t<h4 class=\"hd\">商品详情</h4>\\n        <div class=\"content ke-post\">\\n\\t描述加载中\\t</div>\\n </div>\\n\\n\\n\\t                    <div id=\"J_DcBottomRightWrap\">\\r\\n\\t\\t\\t<div id=\"J_DcBottomRight\" class=\"J_DcAsyn tb-shop\"></div>\\r\\n\\t\\r\\n    <div id=\"J_ZebraPriceDesc\" class=\"j-mdv\" mdv-cls=\"malldetail/view/zebraBlock\" mdv-cfg=\"{zebraId:\\'pricedesc_pc\\',append:true,catId:50008144 }\"></div>\\r\\n\\t</div>\\t                    \\r\\n<!-- 试用详情 -->\\r\\n<div id=\"J_Detail\">\\n\\t\\t\\t<!-- 新首发试用详情 -->\\r\\n\\t<!-- 专业评测 -->\\r\\n\\t\\n\\t\\t\\t\\t<div id=\"J_Reviews\" class=\"J_DetailSection\">\\r\\n\\t\\t<h4 class=\"hd\">累计评价 <em class=\"J_ReviewsCount\"></em></h4>\\r\\n\\t</div>\\r\\n\\t\\t    \\t<div class=\"j-mdv\" mdv-cls=\"malldetail/view/zebraBlock\" mdv-cfg=\"{zebraId:\\'tmallapkratetab\\'}\" id=\"J_TmallApkRateTab\"></div>\\n\\t\\t\\n\\t\\t\\t\\t\\t        \\t\\t\\t            \\t<div class=\"j-mdv\" mdv-cls=\"malldetail/view/tmsBlock\" style=\"display:none;\" mdv-cfg=\"{tmsId:\\'tmallapk\\'}\" id=\"J_TmallApkBuyerList\"></div> \\n        \\t<div id=\"J_SellerInfo\" class=\"J_DetailSection tb-sellerinfo\" data-url=\"//ext-mdskip.taobao.com/extension/seller_info.htm?user_num_id=726984974&user_tag=125812588&shop_start=1309522346000\">\\r\\n\\t   \\t<h5 class=\"hd\">店铺30天服务情况</h5>\\r\\n\\t    \\t</div>\\r\\n       \\t<div id=\"J_TabRecommends\" class=\"J_DetailSection\">\\r\\n         \\t        <h4 class=\"hd\">猜你喜欢</h4>\\r\\n    \\t    </div>\\r\\n\\n\\t\\t<div id=\\'official-remind\\' class=\"j-mdv\" mdv-cls=\"malldetail/view/zebraBlock\" mdv-cfg=\"{zebraId:\\'official_remind\\'}\"></div>\\t</div>\\n\\t                </div>\\n\\t            </div>\\n\\t           \\n\\t            \\t<div class=\"col-sub\">\\r\\n\\t\\t\\t\\t\\t<div id=\"J_DcShopArchive\" class=\"J_DcAsyn\"></div>\\r\\n\\t\\t\\t                    \\t\\t\\t\\t\\t\\t\\t\\t\\t\\t\\t\\t<div id=\"J_DcLeft\" class=\"J_DcAsyn tb-shop\"></div>\\r\\n\\t\\t\\t\\t\\r\\n\\t\\t\\t</div>\\r\\n\\t        </div>\\n        </div>\\n\\t\\t\\t\\t\\t\\t<div id=\"J_DcFt\" class=\"J_DcAsyn tb-shop\"></div>\\r\\n\\t\\r\\n</div>\\n</div>\\n\\n    \\n    <div data-spm=\"1998132244\" id=\"J_lidi\">\\n    \\t\\t\\t\\n\\t\\t\\t<!--  ESIBanner开始 -->\\n\\t\\t<!-- position : BOTTOM , params:  -->\\n\\t\\t\\t\\t\\t\\t<!--  ESIBanner结束 -->\\n\\t    </div>\\n                            </div>                                     <div id=\"footer\" data-spm=\"a2226n1\" class=\"tm-chn--footer \">\\n            \\n                <div id=\"tmall-ensure\">\\n                            <a href=\"//pages.tmall.com/wow/seller/act/newpinzhibaozhang\"></a>\\n                <a href=\"//www.tmall.com/wow/seller/act/seven-day\"></a>\\n                <a href=\"//www.tmall.com/wow/seller/act/special-service\"></a>\\n                                    <a href=\"//service.tmall.com/support/tmall/tmallHelp.htm\"></a>\\n                                    </div>\\n                <div id=\"tmall-desc\">\\n                            <div class=\"mui-global-fragment-load\" data-fragment=\"tmbase/mui_footer_desc\"></div>\\n                    </div>\\n        <div id=\"tmall-copyright\">\\n            <div class=\"mui-global-fragment-load\" data-fragment=\"tmbase/mui_footer_link\"></div>\\n        </div>\\n            <!-- global footer 2019 -->\\n        <div id=\"server-num\">malldetail033043118140.center.na610</div>\\n</div>\\n</div>\\n                            \\r\\n\\n<div id=\"LineZing\" pagetype=\"2\" shopid=\"67653130\" tmplid=\"\" itemid=\"602738760307\"></div>\\n        <script>\\nKISSY.ready(function(S){\\n    var Win = window;\\n    var now = S.now();\\n    var timestamp = now - now%3600000;\\n    var appId = Win.g_config.appId;\\n\\n            Win[\"UA_Opt\"] = {\\n            LogVal : \"UA_Val\",\\n            MaxMCLog : 10,\\n            MaxKSLog : 10,\\n            MaxMPLog : 10,\\n            MaxFocusLog : 1,\\n            Token : new Date().getTime() + \":\" + Math.random(),\\n            SendMethod : 8,\\n            Flag : 12430\\n        }\\n        Win[\"UA_Val\"] = \"\";\\n    Win[\"getUA\"] = function(){\\n        var tmp = Win[\"UA_Val\"];\\n        UA_Opt.Token= new Date().getTime() + \":\" + Math.random();\\n        UA_Opt.reload();\\n        return tmp;\\n    }\\n\\n    //S.getScript(\"http://uaction.aliyuncdn.com/js/ua.js?\"+timestamp, function(){\\n    S.getScript(\"//uaction.alicdn.com/js/ua.js?\"+timestamp, function(){\\n        try{\\n            UA_Opt.Token = new Date().getTime() + \":\" + Math.random();\\n            UA_Opt.reload();\\n            var uaexp=new Date();\\n            uaexp.setTime(uaexp.getTime()+30*24*60*60*1000);\\n            document.cookie=\"pnm_cku822=\"+encodeURIComponent(window.getUA())+\";path=/;expires=\"+uaexp.toGMTString();\\n        }catch(err){}\\n    });\\n});\\n</script>\\n\\n\\n    <!--\\r\\n<link rel=\"stylesheet\" href=\"//mdetail.tmall.com/validateDc.htm?renderTime=&releaseTime=&lastVersionMd5=&releaseTimeKey=&itemId=602738760307&isNewSystem=\"/>\\r\\n-->\\t        <script>\\r\\nKISSY.config({\\r\\n    modules: {\\r\\n    },\\r\\n    \"packages\": {\\r\\n        \"mui/car-selector\": {\\r\\n            \"version\": \"3.0.2\",\\r\\n            \"path\": \"//g.alicdn.com/tm/car-selector3/3.0.2/\",\\r\\n            \"group\": \"tm\",\\r\\n            \"ignorePackageNameInUri\": true,\\r\\n            \"debug\": true\\r\\n        },\\r\\n        \"mui/crossimage\": {\\r\\n            \"debug\": true,\\r\\n            \"ignorePackageNameInUri\": true,\\r\\n            \"version\": \"3.1.4\",\\r\\n            \"path\": \"//g.alicdn.com/mui/crossimage/3.1.4/\",\\r\\n            \"group\": \"tm\"\\r\\n        }\\r\\n    }\\r\\n});\\r\\n</script>\\n        <script>setTimeout(function() {if (typeof(window.bat) == \\'undefined\\') {var _script = document.createElement(\\'script\\');_script.src = \\'//fragment.tmall.com/feeds/bat\\';_script.onload = _script.onreadystatechange = function(){if(window.bat){window.bat.batTrack(\"cdn.err\",\"bat\",{type:\"error\",msg:\"url,\"+window.location.href})}else{new Image().src = \"//gm.mmstat.com/tmalldetail.bat.cdn_pc_error\";}};document.getElementsByTagName(\\'head\\')[0].appendChild(_script);}},20000);</script>\\n</body>\\n</html>\\n\\n'"
      ]
     },
     "execution_count": 4,
     "metadata": {},
     "output_type": "execute_result"
    }
   ],
   "source": [
    "data"
   ]
  },
  {
   "cell_type": "code",
   "execution_count": null,
   "metadata": {},
   "outputs": [],
   "source": [
    "#没有找到想找的评论，搜索下会发现其实是在另外一个网址里面的"
   ]
  },
  {
   "cell_type": "code",
   "execution_count": 7,
   "metadata": {},
   "outputs": [],
   "source": [
    "url2 = 'https://rate.tmall.com/list_detail_rate.htm?itemId=602738760307&spuId=1358143318&sellerId=726984974&order=3&currentPage=1&append=0&content=1&tagId=&posi=&picture=&groupId=&ua=098%23E1hvaQvEvbQvUvCkvvvvvjiWPLcpsjEmPFLhgjEUPmPwljEvRsdZ6jEvR2zZ0j3R39hvCvmvphvgvpvhvvCvpvgCvvpvvPMMmvhvLUCg40%2BaAf8QrX6Fp%2B0xhEkXj7hjlfe1Rdozb9fB%2BbJZSfyzcrVnnCozD2rO3w0AhC9aWDNBlLyzhbUfbjc6%2Bu64deQEfamK5d8raAuUvpvVvpCmp%2FLvuvhvmvvvpL9g7WnSKvhv8vvvphvvvvvvvvCm%2Bpvvvf9vvhZLvvmCvvvvBBWvvvH%2BvvCHhQvvv7QvvpvVvUCvpvvvi9hvCvvvpZp%3D&needFold=0&_ksTS=1619439030448_424&callback=jsonp425'"
   ]
  },
  {
   "cell_type": "code",
   "execution_count": 8,
   "metadata": {},
   "outputs": [
    {
     "data": {
      "text/plain": [
       "'\\r\\n\\r\\njsonp425({\"rgv587_flag\":\"sm\",\"url\":\"https://login.taobao.com/member/login.jhtml?style=mini&from=sm&full_redirect=false&redirectURL=https%3a%2f%2frate.tmall.com:443/list_detail_rate.htm/_____tmd_____/punish%3fx5secdata=5e0c8e1365474455070961b803bd560607b52cabf5960afff39b64ce58073f7844a8dd94c89edef01763e7bda2153e72fcab45d62d62d1d0fb9af411e98157f55151e037d30b894fa1b9f0617640df869886ed111be2b458db54a7948026a6fdab1f1f8894b2e5ef765c79e41e12f0519ee10b368d61d2f3c94c45814bbb497c02f234d8f4a12804c6289889405174343c75f9916ebc64dd251e09c400de0282c42ce7f7605ebc90a88368c75cd3902e2e70bd86cabda3de6f3f3364949db22874c88438cf7f6fa978d80d46c4ce4a1bbbb139cbd8303b3a65f8f74f48c3ba59f2a3b6f1f2de4d73e9ce4d540d8fe19412cc312e9347b252666786b5e3deafed9d9d26789622e54fcaa25a60d0f39a7ac5762a95fc9f16a859fce3419091f9f52b381475148c01704a54a7cff8e492467fd1b54f2f5874f167ee862b7bbe800d68da8ad4cf2da241771632b091145477029f7dd033d921c93580a2eee6042be088181a3dc3b01e18f49ce11109f2ff5ad5b01cd0b8803e693bc9ca288bcdc9e3872aebf6b93479a711f365eb553a25810d644c27224eda0e6163f80fa88958d94fb816dd5857c7b57b1075778dda26d8f047f0d8aa75d1959a50dd9312f6bd7e89d00686c7ba98685bf75c8e3b03c960d0c36899e47eb2ca957f79d264e80f57fdfde6f8fb3ea9ff973b8024a97d59fe4e3712b15a2efc97d59317d807c16ecdb0f90464b5e55da0cb33c3d6c8e4c0320fb99ae451fbd5da3f7a176bbd7b6bcd4d3df9b5fb7142b818ad4dfca88467c9c98450dd405a14ce714275837a78d13b87b67ea5d350e1001ac38048f9931edd91f8b44d95369ada54570cd4deaa3f767ff7bf8a4053296fcdd1240c9b7c166ad72a6df77658543e6c34b568c5cc4a9c2a6cda7e50a01bd8a8d2ee9838d76977a38956c117c53773b447572dd0e1452aa59def73f5ff1642cc9cfddca46f176bcb11bde76791775b483328fee83a2a53d0bb55130b2e45bac1e0acbe344d5bffab0c24f01f4dc367b8360539a65364ffefd50a0218679dd5ad0750f1d01ab0b47ccca38c1d62dd011397a9b0c77fa90364d274088334998d79e652f79ad81364586ff698d96ccb0ba6411dc0bdea8cf44b3b1082798458325ebf20ef5a28ebab96aab915b1becc7b75304e6c5b16dead55863c448c267f35905ab31eacf5ba6327c7bc8475ba7e582ecfdd5657c37779b706e9726db19f9f8652839193888b7d2a92422b7e68637422544184dfd7f89f0dd059773064366ab4a44e296ec87a160bfc581030c60685773e9b4f960bce81a5153bdc7c776e3494d804651bfb8146631653103d25f41a0da81c3f8ef835345fd421926af84b45696c9d220138df2c46540ed3417e18efb23474c657d4e67e%26x5step=100\"})'"
      ]
     },
     "execution_count": 8,
     "metadata": {},
     "output_type": "execute_result"
    }
   ],
   "source": [
    "data = requests.get(url2).text\n",
    "data"
   ]
  },
  {
   "cell_type": "code",
   "execution_count": 9,
   "metadata": {},
   "outputs": [],
   "source": [
    "#看不到评论，因为天猫很聪明，知道你是爬虫不是浏览器，我们要伪装自己\n",
    "#需要3个东西来伪装自己, referer, user-agent和cookie\n",
    "#全部在网页中右键inspect中 Network 中刷新一下后再 search 评论以后的 Headers中的 Requests Headers里面\n",
    "#字典形式\n",
    "headers ={\n",
    "    #从哪个页面发出的数据申请，每个网站可能略有不同\n",
    "    'referer': 'https://detail.tmall.com/item.htm?spm=a220m.1000858.0.0.43d4ec74UdhWn9&id=602738760307&is_b=1&cat_id=2&q=%25B9%25F3%25D6%25DD%25C3%25A9%25CC%25A8%20%25BE%25C6%2053',\n",
    "    #用的哪个浏览器\n",
    "    'user_agent': 'Mozilla/5.0 (Windows NT 10.0; Win64; x64) AppleWebKit/537.36 (KHTML, like Gecko) Chrome/90.0.4430.72 Safari/537.36',\n",
    "    #哪个用户想要看数据，是游客还是注册用户，建议使用登录后的cookie\n",
    "    'cookie': 'cna=TKEqGOPPdSgCAbfIANW4reDE; hng=CN%7Czh-CN%7CCNY%7C156; lid=%E5%93%88%E7%BD%97fuiq; enc=kp82bPllDb30h6XkgtFEZhEkYNX7tZKptylrGiRrOmk4W9OD06Ag7pwqEvBU%2FwbOKM1EhgDpm805L2tAOxPgjw%3D%3D; tk_trace=1; xlly_s=1; t=175e9d4a48fbe66335c3ea011bb20cc8; _tb_token_=eebeb3be9368e; cookie2=15ea006c1183cd42bdb08d26f466b684; _m_h5_tk=87e76c5b6557a5e4479a52f3d5689c92_1619447153906; _m_h5_tk_enc=86318ddfa4b80191b78d4872c81a84e3; dnk=%5Cu54C8%5Cu7F57fuiq; uc1=cookie21=URm48syIYB3rzvI4Dim4&existShop=false&cookie15=URm48syIIVrSKA%3D%3D&cookie14=Uoe1i6vl5UBn%2BA%3D%3D&pas=0&cookie16=WqG3DMC9UpAPBHGz5QBErFxlCA%3D%3D; uc3=lg2=UIHiLt3xD8xYTw%3D%3D&vt3=F8dCuwlHeJ45WyrVWlU%3D&nk2=2nG85cQKAOE%3D&id2=UUGlRhkMmMsj%2Bw%3D%3D; tracknick=%5Cu54C8%5Cu7F57fuiq; uc4=id4=0%40U2OSUVvYMwYMXtG7TgHrYFe3Qiui&nk4=0%402Euj7doi%2FQkF%2Fc2k9LmE5gIUQQ%3D%3D; _l_g_=Ug%3D%3D; unb=2978377676; lgc=%5Cu54C8%5Cu7F57fuiq; cookie1=BxUAII6%2Bm7HBu1M0oD95cNmIagd%2FtSP0mO0qjHXfeKg%3D; login=true; cookie17=UUGlRhkMmMsj%2Bw%3D%3D; _nk_=%5Cu54C8%5Cu7F57fuiq; sgcookie=E100p%2BEeYeAL%2FakLUZwYO%2FttcU1cVM1cXrhbnqVzE3ILvc7BSpw3iLjsjzOGDcW%2BuZEGDO5x%2Bfo4G%2FSD96u%2FpYN6MQ%3D%3D; sg=q6b; csg=ceeb51b4; tfstk=cokNBmYfwdpZ1dyXwRwVfS-rVFpOZUDmFCEYsXoWByaPUbVGiA_YxVQrWqzJK5f..; l=eBEd-6mljFPORX-WBO5Churza77OaIOb8oNzaNbMiInca6iAwUuBuNCCa83Jkdtj_tCFoetrTKIHCRd-e34dgZqhuJ1REpZZFxvO.; isg=BDc31jfQG4gHuZ_qj-XwwHSBxiuB_Atelg4DZInlMoZXOFZ6kcygrhxeGpBmlOPW'\n",
    "}"
   ]
  },
  {
   "cell_type": "code",
   "execution_count": 10,
   "metadata": {},
   "outputs": [
    {
     "data": {
      "text/plain": [
       "'\\r\\njsonp425({\"rateDetail\":{\"rateCount\":{\"total\":184,\"shop\":0,\"picNum\":70,\"used\":19},\"rateDanceInfo\":{\"storeType\":4,\"currentMilles\":1619448794175,\"showChooseTopic\":false,\"intervalMilles\":104103578500},\"rateList\":[{\"auctionPicUrl\":\"\",\"userInfo\":\"\",\"displayRatePic\":\"\",\"dsr\":0,\"displayRateSum\":0,\"appendComment\":null,\"fromMemory\":0,\"picsSmall\":[],\"tmallSweetPic\":\"\",\"rateDate\":\"2021-04-18 18:23:59\",\"rateContent\":\"货已收到，品相完美\",\"fromMall\":true,\"userIdEncryption\":\"\",\"sellerId\":726984974,\"videoList\":[],\"displayUserLink\":\"\",\"id\":1129946663353,\"aliMallSeller\":false,\"reply\":\"感谢您对1919的支持与认可，1919会不断努力，给消费者带来更优质的酒品 及更便捷的服务。\",\"pics\":[],\"buyCount\":0,\"userVipLevel\":0,\"auctionSku\":\"\",\"anony\":false,\"displayUserNumId\":0,\"goldUser\":false,\"attributesMap\":null,\"tradeEndTime\":{\"date\":18,\"hours\":18,\"seconds\":0,\"month\":3,\"timezoneOffset\":-480,\"year\":121,\"minutes\":2,\"time\":1618740120000,\"day\":0},\"headExtraPic\":\"\",\"aucNumId\":0,\"displayUserNick\":\"h***9\",\"structuredRateList\":[],\"carServiceLocation\":\"\",\"userVipPic\":\"\",\"serviceRateContent\":\"\",\"memberIcon\":\"\",\"attributes\":\"\",\"position\":\"920-11-5,9;\",\"cmsSource\":\"天猫\",\"tamllSweetLevel\":0,\"gmtCreateTime\":{\"date\":18,\"hours\":18,\"seconds\":59,\"month\":3,\"timezoneOffset\":-480,\"year\":121,\"minutes\":23,\"time\":1618741439000,\"day\":0},\"useful\":true,\"displayUserRateLink\":\"\"},{\"auctionPicUrl\":\"\",\"userInfo\":\"\",\"displayRatePic\":\"\",\"dsr\":0,\"displayRateSum\":0,\"appendComment\":null,\"fromMemory\":0,\"picsSmall\":[],\"tmallSweetPic\":\"tmall-grade-t4-18.png\",\"rateDate\":\"2021-04-20 21:56:53\",\"rateContent\":\"买完就便宜了二百多，😂😂😂\",\"fromMall\":true,\"userIdEncryption\":\"\",\"sellerId\":726984974,\"videoList\":[],\"displayUserLink\":\"\",\"id\":1128952752102,\"aliMallSeller\":false,\"reply\":\"尊敬的客户，您好！感谢您对1919的支持与认可，由于酒水市场价格波动较大，我们随时根据市场情况调整价格，以确保1919的即时售价为市场最低价，正因为如此，每天甚至每时每刻的售价都可能随时变化，以此来保证消费者的利益。谢谢你的建议，我们会认真考虑的，祝您购物愉快！\",\"pics\":[],\"buyCount\":0,\"userVipLevel\":0,\"auctionSku\":\"\",\"anony\":false,\"displayUserNumId\":0,\"goldUser\":true,\"attributesMap\":null,\"tradeEndTime\":{\"date\":20,\"hours\":21,\"seconds\":0,\"month\":3,\"timezoneOffset\":-480,\"year\":121,\"minutes\":55,\"time\":1618926900000,\"day\":2},\"headExtraPic\":\"\",\"aucNumId\":0,\"displayUserNick\":\"t***5\",\"structuredRateList\":[],\"carServiceLocation\":\"\",\"userVipPic\":\"\",\"serviceRateContent\":\"\",\"memberIcon\":\"\",\"attributes\":\"\",\"position\":\"520-12-0,9;\",\"cmsSource\":\"天猫\",\"tamllSweetLevel\":4,\"gmtCreateTime\":{\"date\":20,\"hours\":21,\"seconds\":53,\"month\":3,\"timezoneOffset\":-480,\"year\":121,\"minutes\":56,\"time\":1618927013000,\"day\":2},\"useful\":true,\"displayUserRateLink\":\"\"},{\"auctionPicUrl\":\"\",\"userInfo\":\"\",\"displayRatePic\":\"\",\"dsr\":0,\"displayRateSum\":0,\"appendComment\":null,\"fromMemory\":0,\"picsSmall\":[],\"tmallSweetPic\":\"tmall-grade-t3-18.png\",\"rateDate\":\"2021-04-08 13:28:18\",\"rateContent\":\"之前根据经验，所有的条件都符合真品，只有把头不松动，为确保，找了三家实体店铺鉴定的，应该不是假货吧\",\"fromMall\":true,\"userIdEncryption\":\"\",\"sellerId\":726984974,\"videoList\":[],\"displayUserLink\":\"\",\"id\":1128642635543,\"aliMallSeller\":false,\"reply\":\"您好，咱们公司酒水100%保证全新正品。所有商品都是正规厂家进货的， 所有正规手续都齐全的。而且所有商品都是通过天猫商城审核通过后才上架的。 所以您可以绝对放心！感谢您对1919的支持与认可，1919会不断努力，给消 费者带来更优质的酒品及更便捷的服务。\",\"pics\":[],\"buyCount\":0,\"userVipLevel\":0,\"auctionSku\":\"\",\"anony\":false,\"displayUserNumId\":0,\"goldUser\":true,\"attributesMap\":null,\"tradeEndTime\":{\"date\":8,\"hours\":12,\"seconds\":18,\"month\":3,\"timezoneOffset\":-480,\"year\":121,\"minutes\":20,\"time\":1617855618000,\"day\":4},\"headExtraPic\":\"\",\"aucNumId\":0,\"displayUserNick\":\"p***8\",\"structuredRateList\":[],\"carServiceLocation\":\"\",\"userVipPic\":\"\",\"serviceRateContent\":\"\",\"memberIcon\":\"\",\"attributes\":\"\",\"position\":\"920-11-18,25;1020-11-7,17;\",\"cmsSource\":\"天猫\",\"tamllSweetLevel\":3,\"gmtCreateTime\":{\"date\":8,\"hours\":13,\"seconds\":18,\"month\":3,\"timezoneOffset\":-480,\"year\":121,\"minutes\":28,\"time\":1617859698000,\"day\":4},\"useful\":true,\"displayUserRateLink\":\"\"},{\"auctionPicUrl\":\"\",\"userInfo\":\"\",\"displayRatePic\":\"\",\"dsr\":0,\"displayRateSum\":0,\"appendComment\":{\"videoList\":[],\"commentId\":0,\"days\":46,\"reply\":\"\",\"commentTime\":\"2021-03-31 18:36:03\",\"pics\":[],\"content\":\"瓶口很大的味道有点跑酒，路上颠簸的厉害\"},\"fromMemory\":0,\"picsSmall\":[],\"tmallSweetPic\":\"\",\"rateDate\":\"2021-02-28 09:26:25\",\"rateContent\":\"此用户没有填写评论!\",\"fromMall\":true,\"userIdEncryption\":\"\",\"sellerId\":726984974,\"videoList\":[],\"displayUserLink\":\"\",\"id\":1126828609673,\"aliMallSeller\":false,\"reply\":\"\",\"pics\":[],\"buyCount\":0,\"userVipLevel\":0,\"auctionSku\":\"\",\"anony\":false,\"displayUserNumId\":0,\"goldUser\":false,\"attributesMap\":null,\"tradeEndTime\":{\"date\":13,\"hours\":9,\"seconds\":25,\"month\":1,\"timezoneOffset\":-480,\"year\":121,\"minutes\":26,\"time\":1613179585000,\"day\":6},\"headExtraPic\":\"\",\"aucNumId\":0,\"displayUserNick\":\"t***1\",\"structuredRateList\":[],\"carServiceLocation\":\"\",\"userVipPic\":\"\",\"serviceRateContent\":\"\",\"memberIcon\":\"\",\"attributes\":\"\",\"position\":\"\",\"cmsSource\":\"天猫\",\"tamllSweetLevel\":0,\"gmtCreateTime\":{\"date\":28,\"hours\":9,\"seconds\":25,\"month\":1,\"timezoneOffset\":-480,\"year\":121,\"minutes\":26,\"time\":1614475585000,\"day\":0},\"useful\":true,\"displayUserRateLink\":\"\"},{\"auctionPicUrl\":\"\",\"userInfo\":\"\",\"displayRatePic\":\"\",\"dsr\":0,\"displayRateSum\":0,\"appendComment\":null,\"fromMemory\":0,\"picsSmall\":[],\"tmallSweetPic\":\"\",\"rateDate\":\"2021-02-27 10:53:38\",\"rateContent\":\"包装精美大气，鉴定正品，商家服务态度良好，值得收藏！\",\"fromMall\":true,\"userIdEncryption\":\"\",\"sellerId\":726984974,\"videoList\":[],\"displayUserLink\":\"\",\"id\":1122812452057,\"aliMallSeller\":false,\"reply\":\"\",\"pics\":[\"//img.alicdn.com/bao/uploaded/i4/6000000004011/O1CN01vUaenc1fV5HO3csiN_!!6000000004011-0-grass_mewo.jpg\",\"//img.alicdn.com/bao/uploaded/i1/6000000001873/O1CN01PfO3iT1PhsUcubevI_!!6000000001873-0-grass_mewo.jpg\",\"//img.alicdn.com/bao/uploaded/i2/6000000004387/O1CN01KiGQ251iHICajN4q0_!!6000000004387-0-grass_mewo.jpg\"],\"buyCount\":0,\"userVipLevel\":0,\"auctionSku\":\"\",\"anony\":false,\"displayUserNumId\":0,\"goldUser\":false,\"attributesMap\":null,\"tradeEndTime\":{\"date\":27,\"hours\":10,\"seconds\":27,\"month\":1,\"timezoneOffset\":-480,\"year\":121,\"minutes\":49,\"time\":1614394167000,\"day\":6},\"headExtraPic\":\"\",\"aucNumId\":0,\"displayUserNick\":\"t***8\",\"structuredRateList\":[],\"carServiceLocation\":\"\",\"userVipPic\":\"\",\"serviceRateContent\":\"\",\"memberIcon\":\"\",\"attributes\":\"\",\"position\":\"220-11-0,6;1020-11-7,11;10120-11-12,20;920-11-21,25;10041002-11-0,6;10031004-11-0,6;10021018-11-12,20;10001025-11-7,11;\",\"cmsSource\":\"天猫\",\"tamllSweetLevel\":0,\"gmtCreateTime\":{\"date\":27,\"hours\":10,\"seconds\":38,\"month\":1,\"timezoneOffset\":-480,\"year\":121,\"minutes\":53,\"time\":1614394418000,\"day\":6},\"useful\":true,\"displayUserRateLink\":\"\"},{\"auctionPicUrl\":\"\",\"userInfo\":\"\",\"displayRatePic\":\"\",\"dsr\":0,\"displayRateSum\":0,\"appendComment\":null,\"fromMemory\":0,\"picsSmall\":[],\"tmallSweetPic\":\"tmall-grade-t4-18.png\",\"rateDate\":\"2021-02-24 19:38:44\",\"rateContent\":\"真的，没问题，闻了下是酱油香味。\",\"fromMall\":true,\"userIdEncryption\":\"\",\"sellerId\":726984974,\"videoList\":[],\"displayUserLink\":\"\",\"id\":1122609376240,\"aliMallSeller\":false,\"reply\":\"\",\"pics\":[\"//img.alicdn.com/bao/uploaded/i1/O1CN01fpkv6w1RaD5omWFUH_!!0-tmallfun.jpg\",\"//img.alicdn.com/bao/uploaded/i4/O1CN01V11Mmx1VRHq025puA_!!0-tmallfun.jpg\",\"//img.alicdn.com/bao/uploaded/i1/O1CN01iDUTjq1jp0yh2z7HK_!!0-tmallfun.jpg\",\"//img.alicdn.com/bao/uploaded/i3/O1CN01FpqZ531EA1RSOHJui_!!0-tmallfun.jpg\"],\"buyCount\":0,\"userVipLevel\":0,\"auctionSku\":\"\",\"anony\":false,\"displayUserNumId\":0,\"goldUser\":true,\"attributesMap\":null,\"tradeEndTime\":{\"date\":24,\"hours\":19,\"seconds\":45,\"month\":1,\"timezoneOffset\":-480,\"year\":121,\"minutes\":37,\"time\":1614166665000,\"day\":3},\"headExtraPic\":\"\",\"aucNumId\":0,\"displayUserNick\":\"2***g\",\"structuredRateList\":[],\"carServiceLocation\":\"\",\"userVipPic\":\"\",\"serviceRateContent\":\"\",\"memberIcon\":\"\",\"attributes\":\"\",\"position\":\"920-11-3,6;342-11-7,15;\",\"cmsSource\":\"天猫\",\"tamllSweetLevel\":4,\"gmtCreateTime\":{\"date\":24,\"hours\":19,\"seconds\":44,\"month\":1,\"timezoneOffset\":-480,\"year\":121,\"minutes\":38,\"time\":1614166724000,\"day\":3},\"useful\":true,\"displayUserRateLink\":\"\"},{\"auctionPicUrl\":\"\",\"userInfo\":\"\",\"displayRatePic\":\"\",\"dsr\":0,\"displayRateSum\":0,\"appendComment\":null,\"fromMemory\":0,\"picsSmall\":[],\"tmallSweetPic\":\"tmall-grade-t4-18.png\",\"rateDate\":\"2021-02-24 19:39:48\",\"rateContent\":\"真的，没毛病。一支喝一支收藏\",\"fromMall\":true,\"userIdEncryption\":\"\",\"sellerId\":726984974,\"videoList\":[],\"displayUserLink\":\"\",\"id\":1122609132842,\"aliMallSeller\":false,\"reply\":\"\",\"pics\":[\"//img.alicdn.com/bao/uploaded/i3/O1CN01P9KcIz25zTZXIoGbC_!!0-rate.jpg\",\"//img.alicdn.com/bao/uploaded/i3/O1CN013oRuB61PIghwcCFzC_!!0-rate.jpg\",\"//img.alicdn.com/bao/uploaded/i3/O1CN01epcvqG1i5qIfvZarp_!!0-rate.jpg\",\"//img.alicdn.com/bao/uploaded/i1/O1CN01e2qOmy1TLDM7AHH7b_!!0-rate.jpg\",\"//img.alicdn.com/bao/uploaded/i3/O1CN01CaTnTP28kJIxALfLE_!!0-rate.jpg\"],\"buyCount\":0,\"userVipLevel\":0,\"auctionSku\":\"\",\"anony\":false,\"displayUserNumId\":0,\"goldUser\":true,\"attributesMap\":null,\"tradeEndTime\":{\"date\":24,\"hours\":19,\"seconds\":27,\"month\":1,\"timezoneOffset\":-480,\"year\":121,\"minutes\":37,\"time\":1614166647000,\"day\":3},\"headExtraPic\":\"\",\"aucNumId\":0,\"displayUserNick\":\"2***g\",\"structuredRateList\":[],\"carServiceLocation\":\"\",\"userVipPic\":\"\",\"serviceRateContent\":\"\",\"memberIcon\":\"\",\"attributes\":\"\",\"position\":\"920-11-3,6;\",\"cmsSource\":\"天猫\",\"tamllSweetLevel\":4,\"gmtCreateTime\":{\"date\":24,\"hours\":19,\"seconds\":48,\"month\":1,\"timezoneOffset\":-480,\"year\":121,\"minutes\":39,\"time\":1614166788000,\"day\":3},\"useful\":true,\"displayUserRateLink\":\"\"},{\"auctionPicUrl\":\"\",\"userInfo\":\"\",\"displayRatePic\":\"\",\"dsr\":0,\"displayRateSum\":0,\"appendComment\":null,\"fromMemory\":0,\"picsSmall\":[],\"tmallSweetPic\":\"tmall-grade-t4-18.png\",\"rateDate\":\"2021-02-22 18:43:49\",\"rateContent\":\"品质很不错🍆，性价比比较高的的商品🍀，喜欢的亲可以直接下手不要犹豫哦📍\",\"fromMall\":true,\"userIdEncryption\":\"\",\"sellerId\":726984974,\"videoList\":[],\"displayUserLink\":\"\",\"id\":1123279086441,\"aliMallSeller\":false,\"reply\":\"感谢您对1919的支持与认可，1919会不断努力，期待您的下次光临！\",\"pics\":[],\"buyCount\":0,\"userVipLevel\":0,\"auctionSku\":\"\",\"anony\":false,\"displayUserNumId\":0,\"goldUser\":true,\"attributesMap\":null,\"tradeEndTime\":{\"date\":22,\"hours\":18,\"seconds\":25,\"month\":1,\"timezoneOffset\":-480,\"year\":121,\"minutes\":43,\"time\":1613990605000,\"day\":1},\"headExtraPic\":\"\",\"aucNumId\":0,\"displayUserNick\":\"飞***7\",\"structuredRateList\":[],\"carServiceLocation\":\"\",\"userVipPic\":\"\",\"serviceRateContent\":\"\",\"memberIcon\":\"\",\"attributes\":\"\",\"position\":\"111;\",\"cmsSource\":\"天猫\",\"tamllSweetLevel\":4,\"gmtCreateTime\":{\"date\":22,\"hours\":18,\"seconds\":49,\"month\":1,\"timezoneOffset\":-480,\"year\":121,\"minutes\":43,\"time\":1613990629000,\"day\":1},\"useful\":true,\"displayUserRateLink\":\"\"},{\"auctionPicUrl\":\"\",\"userInfo\":\"\",\"displayRatePic\":\"\",\"dsr\":0,\"displayRateSum\":0,\"appendComment\":null,\"fromMemory\":0,\"picsSmall\":[],\"tmallSweetPic\":\"tmall-grade-t3-18.png\",\"rateDate\":\"2021-02-26 12:45:34\",\"rateContent\":\"买来收藏了，自己目测应该是真品\",\"fromMall\":true,\"userIdEncryption\":\"\",\"sellerId\":726984974,\"videoList\":[],\"displayUserLink\":\"\",\"id\":1122741676318,\"aliMallSeller\":false,\"reply\":\"\",\"pics\":[],\"buyCount\":0,\"userVipLevel\":0,\"auctionSku\":\"\",\"anony\":false,\"displayUserNumId\":0,\"goldUser\":true,\"attributesMap\":null,\"tradeEndTime\":{\"date\":26,\"hours\":12,\"seconds\":33,\"month\":1,\"timezoneOffset\":-480,\"year\":121,\"minutes\":44,\"time\":1614314673000,\"day\":5},\"headExtraPic\":\"\",\"aucNumId\":0,\"displayUserNick\":\"向***2\",\"structuredRateList\":[],\"carServiceLocation\":\"\",\"userVipPic\":\"\",\"serviceRateContent\":\"\",\"memberIcon\":\"\",\"attributes\":\"\",\"position\":\"111;1020-11-6,15;\",\"cmsSource\":\"天猫\",\"tamllSweetLevel\":3,\"gmtCreateTime\":{\"date\":26,\"hours\":12,\"seconds\":34,\"month\":1,\"timezoneOffset\":-480,\"year\":121,\"minutes\":45,\"time\":1614314734000,\"day\":5},\"useful\":true,\"displayUserRateLink\":\"\"},{\"auctionPicUrl\":\"\",\"userInfo\":\"\",\"displayRatePic\":\"\",\"dsr\":0,\"displayRateSum\":0,\"appendComment\":null,\"fromMemory\":0,\"picsSmall\":[],\"tmallSweetPic\":\"\",\"rateDate\":\"2021-02-23 17:40:51\",\"rateContent\":\"🎈商品收到了，包装得很好，物流非常快，客服态度很积极，有问题及时解答！总体来说非常满意！\",\"fromMall\":true,\"userIdEncryption\":\"\",\"sellerId\":726984974,\"videoList\":[],\"displayUserLink\":\"\",\"id\":1122513120828,\"aliMallSeller\":false,\"reply\":\"\",\"pics\":[],\"buyCount\":0,\"userVipLevel\":0,\"auctionSku\":\"\",\"anony\":false,\"displayUserNumId\":0,\"goldUser\":false,\"attributesMap\":null,\"tradeEndTime\":{\"date\":23,\"hours\":17,\"seconds\":33,\"month\":1,\"timezoneOffset\":-480,\"year\":121,\"minutes\":40,\"time\":1614073233000,\"day\":2},\"headExtraPic\":\"\",\"aucNumId\":0,\"displayUserNick\":\"t***0\",\"structuredRateList\":[],\"carServiceLocation\":\"\",\"userVipPic\":\"\",\"serviceRateContent\":\"\",\"memberIcon\":\"\",\"attributes\":\"\",\"position\":\"\",\"cmsSource\":\"天猫\",\"tamllSweetLevel\":0,\"gmtCreateTime\":{\"date\":23,\"hours\":17,\"seconds\":51,\"month\":1,\"timezoneOffset\":-480,\"year\":121,\"minutes\":40,\"time\":1614073251000,\"day\":2},\"useful\":true,\"displayUserRateLink\":\"\"},{\"auctionPicUrl\":\"\",\"userInfo\":\"\",\"displayRatePic\":\"\",\"dsr\":0,\"displayRateSum\":0,\"appendComment\":null,\"fromMemory\":0,\"picsSmall\":[],\"tmallSweetPic\":\"tmall-grade-t4-18.png\",\"rateDate\":\"2021-02-14 00:10:33\",\"rateContent\":\"品质保证\",\"fromMall\":true,\"userIdEncryption\":\"\",\"sellerId\":726984974,\"videoList\":[],\"displayUserLink\":\"\",\"id\":1122648090653,\"aliMallSeller\":false,\"reply\":\"\",\"pics\":[],\"buyCount\":0,\"userVipLevel\":0,\"auctionSku\":\"\",\"anony\":false,\"displayUserNumId\":0,\"goldUser\":true,\"attributesMap\":null,\"tradeEndTime\":{\"date\":14,\"hours\":0,\"seconds\":47,\"month\":1,\"timezoneOffset\":-480,\"year\":121,\"minutes\":8,\"time\":1613232527000,\"day\":0},\"headExtraPic\":\"\",\"aucNumId\":0,\"displayUserNick\":\"y***9\",\"structuredRateList\":[],\"carServiceLocation\":\"\",\"userVipPic\":\"\",\"serviceRateContent\":\"\",\"memberIcon\":\"\",\"attributes\":\"\",\"position\":\"10001005-11-0,5;\",\"cmsSource\":\"天猫\",\"tamllSweetLevel\":4,\"gmtCreateTime\":{\"date\":14,\"hours\":0,\"seconds\":33,\"month\":1,\"timezoneOffset\":-480,\"year\":121,\"minutes\":10,\"time\":1613232633000,\"day\":0},\"useful\":true,\"displayUserRateLink\":\"\"},{\"auctionPicUrl\":\"\",\"userInfo\":\"\",\"displayRatePic\":\"\",\"dsr\":0,\"displayRateSum\":0,\"appendComment\":null,\"fromMemory\":0,\"picsSmall\":[],\"tmallSweetPic\":\"tmall-grade-t4-18.png\",\"rateDate\":\"2021-02-02 19:04:18\",\"rateContent\":\"包装还是很精致的，因为特殊的年份，对我有着特殊的意义，所以准备长期留着。\",\"fromMall\":true,\"userIdEncryption\":\"\",\"sellerId\":726984974,\"videoList\":[],\"displayUserLink\":\"\",\"id\":1120793856153,\"aliMallSeller\":false,\"reply\":\"\",\"pics\":[\"//img.alicdn.com/bao/uploaded/i4/O1CN01Xt36lZ1qVVPpiGIlX_!!0-rate.jpg\"],\"buyCount\":0,\"userVipLevel\":0,\"auctionSku\":\"\",\"anony\":false,\"displayUserNumId\":0,\"goldUser\":true,\"attributesMap\":null,\"tradeEndTime\":{\"date\":2,\"hours\":13,\"seconds\":6,\"month\":1,\"timezoneOffset\":-480,\"year\":121,\"minutes\":4,\"time\":1612242246000,\"day\":2},\"headExtraPic\":\"\",\"aucNumId\":0,\"displayUserNick\":\"t***1\",\"structuredRateList\":[],\"carServiceLocation\":\"\",\"userVipPic\":\"\",\"serviceRateContent\":\"\",\"memberIcon\":\"\",\"attributes\":\"\",\"position\":\"920-12-17,26;542-12-9,16;220-11-0,8;10031004-11-0,8;\",\"cmsSource\":\"天猫\",\"tamllSweetLevel\":4,\"gmtCreateTime\":{\"date\":2,\"hours\":19,\"seconds\":18,\"month\":1,\"timezoneOffset\":-480,\"year\":121,\"minutes\":4,\"time\":1612263858000,\"day\":2},\"useful\":true,\"displayUserRateLink\":\"\"},{\"auctionPicUrl\":\"\",\"userInfo\":\"\",\"displayRatePic\":\"\",\"dsr\":0,\"displayRateSum\":0,\"appendComment\":null,\"fromMemory\":0,\"picsSmall\":[],\"tmallSweetPic\":\"\",\"rateDate\":\"2021-02-06 11:01:23\",\"rateContent\":\"外包装很好，标签清楚，应该是正品\",\"fromMall\":true,\"userIdEncryption\":\"\",\"sellerId\":726984974,\"videoList\":[],\"displayUserLink\":\"\",\"id\":1122005674171,\"aliMallSeller\":false,\"reply\":\"\",\"pics\":[\"//img.alicdn.com/bao/uploaded/i4/6000000005355/O1CN01E5uxxi1pQdaiZtcqq_!!6000000005355-0-grass_mewo.jpg\"],\"buyCount\":0,\"userVipLevel\":0,\"auctionSku\":\"\",\"anony\":false,\"displayUserNumId\":0,\"goldUser\":true,\"attributesMap\":null,\"tradeEndTime\":{\"date\":6,\"hours\":11,\"seconds\":10,\"month\":1,\"timezoneOffset\":-480,\"year\":121,\"minutes\":0,\"time\":1612580410000,\"day\":6},\"headExtraPic\":\"\",\"aucNumId\":0,\"displayUserNick\":\"余***7\",\"structuredRateList\":[],\"carServiceLocation\":\"\",\"userVipPic\":\"\",\"serviceRateContent\":\"\",\"memberIcon\":\"\",\"attributes\":\"\",\"position\":\"111;220-11-0,5;1020-11-11,16;920-11-6,10;10031004-11-0,5;10001025-11-11,16;\",\"cmsSource\":\"天猫\",\"tamllSweetLevel\":0,\"gmtCreateTime\":{\"date\":6,\"hours\":11,\"seconds\":23,\"month\":1,\"timezoneOffset\":-480,\"year\":121,\"minutes\":1,\"time\":1612580483000,\"day\":6},\"useful\":true,\"displayUserRateLink\":\"\"},{\"auctionPicUrl\":\"\",\"userInfo\":\"\",\"displayRatePic\":\"\",\"dsr\":0,\"displayRateSum\":0,\"appendComment\":null,\"fromMemory\":0,\"picsSmall\":[],\"tmallSweetPic\":\"tmall-grade-t4-18.png\",\"rateDate\":\"2021-03-09 10:07:16\",\"rateContent\":\"发货很快，客服，专业知识度不高，问怎么鉴定，居然教了王子酒的防伪标鉴定图片方法给我😷。猪茅，瓶盖无法松动，不知道是会松才好还是紧的才对？\",\"fromMall\":true,\"userIdEncryption\":\"\",\"sellerId\":726984974,\"videoList\":[],\"displayUserLink\":\"\",\"id\":1124006097766,\"aliMallSeller\":false,\"reply\":\"\",\"pics\":[\"//img.alicdn.com/bao/uploaded/i1/O1CN010Ng1BV1PBMNBIlMgI_!!0-rate.jpg\"],\"buyCount\":0,\"userVipLevel\":0,\"auctionSku\":\"\",\"anony\":false,\"displayUserNumId\":0,\"goldUser\":true,\"attributesMap\":null,\"tradeEndTime\":{\"date\":9,\"hours\":10,\"seconds\":20,\"month\":2,\"timezoneOffset\":-480,\"year\":121,\"minutes\":4,\"time\":1615255460000,\"day\":2},\"headExtraPic\":\"\",\"aucNumId\":0,\"displayUserNick\":\"威***衣\",\"structuredRateList\":[],\"carServiceLocation\":\"\",\"userVipPic\":\"\",\"serviceRateContent\":\"\",\"memberIcon\":\"\",\"attributes\":\"\",\"position\":\"111;10420-11-0,4;720-12-22,41;10120-12-5,7;920-11-47,53;920-12-8,15;10001020-11-0,4;\",\"cmsSource\":\"天猫\",\"tamllSweetLevel\":4,\"gmtCreateTime\":{\"date\":9,\"hours\":10,\"seconds\":16,\"month\":2,\"timezoneOffset\":-480,\"year\":121,\"minutes\":7,\"time\":1615255636000,\"day\":2},\"useful\":true,\"displayUserRateLink\":\"\"},{\"auctionPicUrl\":\"\",\"userInfo\":\"\",\"displayRatePic\":\"\",\"dsr\":0,\"displayRateSum\":0,\"appendComment\":null,\"fromMemory\":0,\"picsSmall\":[],\"tmallSweetPic\":\"\",\"rateDate\":\"2021-02-03 12:49:20\",\"rateContent\":\"不知是真是假\",\"fromMall\":true,\"userIdEncryption\":\"\",\"sellerId\":726984974,\"videoList\":[],\"displayUserLink\":\"\",\"id\":1120858520817,\"aliMallSeller\":false,\"reply\":\"\",\"pics\":[],\"buyCount\":0,\"userVipLevel\":0,\"auctionSku\":\"\",\"anony\":false,\"displayUserNumId\":0,\"goldUser\":false,\"attributesMap\":null,\"tradeEndTime\":{\"date\":3,\"hours\":12,\"seconds\":11,\"month\":1,\"timezoneOffset\":-480,\"year\":121,\"minutes\":47,\"time\":1612327631000,\"day\":3},\"headExtraPic\":\"\",\"aucNumId\":0,\"displayUserNick\":\"t***0\",\"structuredRateList\":[],\"carServiceLocation\":\"\",\"userVipPic\":\"\",\"serviceRateContent\":\"\",\"memberIcon\":\"\",\"attributes\":\"\",\"position\":\"\",\"cmsSource\":\"天猫\",\"tamllSweetLevel\":0,\"gmtCreateTime\":{\"date\":3,\"hours\":12,\"seconds\":20,\"month\":1,\"timezoneOffset\":-480,\"year\":121,\"minutes\":49,\"time\":1612327760000,\"day\":3},\"useful\":true,\"displayUserRateLink\":\"\"},{\"auctionPicUrl\":\"\",\"userInfo\":\"\",\"displayRatePic\":\"\",\"dsr\":0,\"displayRateSum\":0,\"appendComment\":null,\"fromMemory\":0,\"picsSmall\":[],\"tmallSweetPic\":\"tmall-grade-t3-18.png\",\"rateDate\":\"2021-03-09 21:13:31\",\"rateContent\":\"收到猪茅开箱验货发现有瑕疵，而且有点跑酒，联系卖家更换后完美，不错的购物，待检验真假。\",\"fromMall\":true,\"userIdEncryption\":\"\",\"sellerId\":726984974,\"videoList\":[],\"displayUserLink\":\"\",\"id\":1124076289129,\"aliMallSeller\":false,\"reply\":\"您能满意真是极好的，感谢您的大驾光临，让小店真是蓬荜生辉、荣幸之至。一定不负主子恩泽，酒希望您能喜欢，期待您的下次光临了您！\",\"pics\":[],\"buyCount\":0,\"userVipLevel\":0,\"auctionSku\":\"\",\"anony\":true,\"displayUserNumId\":0,\"goldUser\":false,\"attributesMap\":null,\"tradeEndTime\":{\"date\":7,\"hours\":14,\"seconds\":45,\"month\":2,\"timezoneOffset\":-480,\"year\":121,\"minutes\":51,\"time\":1615099905000,\"day\":0},\"headExtraPic\":\"\",\"aucNumId\":0,\"displayUserNick\":\"h***8\",\"structuredRateList\":[],\"carServiceLocation\":\"\",\"userVipPic\":\"\",\"serviceRateContent\":\"\",\"memberIcon\":\"\",\"attributes\":\"\",\"position\":\"620-12-14,20;20120-11-21,30;920-13-0,13;\",\"cmsSource\":\"天猫\",\"tamllSweetLevel\":3,\"gmtCreateTime\":{\"date\":9,\"hours\":21,\"seconds\":31,\"month\":2,\"timezoneOffset\":-480,\"year\":121,\"minutes\":13,\"time\":1615295611000,\"day\":2},\"useful\":true,\"displayUserRateLink\":\"\"},{\"auctionPicUrl\":\"\",\"userInfo\":\"\",\"displayRatePic\":\"\",\"dsr\":0,\"displayRateSum\":0,\"appendComment\":null,\"fromMemory\":0,\"picsSmall\":[],\"tmallSweetPic\":\"\",\"rateDate\":\"2021-01-14 15:56:00\",\"rateContent\":\"东西包装很好，没有漏酒\",\"fromMall\":true,\"userIdEncryption\":\"\",\"sellerId\":726984974,\"videoList\":[],\"displayUserLink\":\"\",\"id\":1118965361683,\"aliMallSeller\":false,\"reply\":\"\",\"pics\":[],\"buyCount\":0,\"userVipLevel\":0,\"auctionSku\":\"\",\"anony\":false,\"displayUserNumId\":0,\"goldUser\":true,\"attributesMap\":null,\"tradeEndTime\":{\"date\":12,\"hours\":20,\"seconds\":50,\"month\":0,\"timezoneOffset\":-480,\"year\":121,\"minutes\":15,\"time\":1610453750000,\"day\":2},\"headExtraPic\":\"\",\"aucNumId\":0,\"displayUserNick\":\"k***5\",\"structuredRateList\":[],\"carServiceLocation\":\"\",\"userVipPic\":\"\",\"serviceRateContent\":\"\",\"memberIcon\":\"\",\"attributes\":\"\",\"position\":\"220-11-0,6;620-12-7,11;10031004-11-0,6;\",\"cmsSource\":\"天猫\",\"tamllSweetLevel\":0,\"gmtCreateTime\":{\"date\":14,\"hours\":15,\"seconds\":0,\"month\":0,\"timezoneOffset\":-480,\"year\":121,\"minutes\":56,\"time\":1610610960000,\"day\":4},\"useful\":true,\"displayUserRateLink\":\"\"},{\"auctionPicUrl\":\"\",\"userInfo\":\"\",\"displayRatePic\":\"\",\"dsr\":0,\"displayRateSum\":0,\"appendComment\":null,\"fromMemory\":0,\"picsSmall\":[],\"tmallSweetPic\":\"\",\"rateDate\":\"2021-03-16 19:24:42\",\"rateContent\":\"快递很快，服务一流！\",\"fromMall\":true,\"userIdEncryption\":\"\",\"sellerId\":726984974,\"videoList\":[],\"displayUserLink\":\"\",\"id\":1124385592823,\"aliMallSeller\":false,\"reply\":\"感谢您对1919的支持与认可，1919会不断努力，给消费者带来更优质的酒品及更便捷的服务\",\"pics\":[],\"buyCount\":0,\"userVipLevel\":0,\"auctionSku\":\"\",\"anony\":false,\"displayUserNumId\":0,\"goldUser\":true,\"attributesMap\":null,\"tradeEndTime\":{\"date\":16,\"hours\":19,\"seconds\":13,\"month\":2,\"timezoneOffset\":-480,\"year\":121,\"minutes\":9,\"time\":1615892953000,\"day\":2},\"headExtraPic\":\"\",\"aucNumId\":0,\"displayUserNick\":\"t***0\",\"structuredRateList\":[],\"carServiceLocation\":\"\",\"userVipPic\":\"\",\"serviceRateContent\":\"\",\"memberIcon\":\"\",\"attributes\":\"\",\"position\":\"10120-11-5,9;420-11-0,4;10021018-11-5,9;10001020-11-0,4;\",\"cmsSource\":\"天猫\",\"tamllSweetLevel\":0,\"gmtCreateTime\":{\"date\":16,\"hours\":19,\"seconds\":42,\"month\":2,\"timezoneOffset\":-480,\"year\":121,\"minutes\":24,\"time\":1615893882000,\"day\":2},\"useful\":true,\"displayUserRateLink\":\"\"},{\"auctionPicUrl\":\"\",\"userInfo\":\"\",\"displayRatePic\":\"\",\"dsr\":0,\"displayRateSum\":0,\"appendComment\":null,\"fromMemory\":0,\"picsSmall\":[],\"tmallSweetPic\":\"tmall-grade-t1-18.png\",\"rateDate\":\"2021-02-21 10:00:40\",\"rateContent\":\"这瓶跑酒有那么一点，在重量上还能接受！就这个防伪介绍是放在酒后面压着的！都破了！这个不是影响商品的价值的吗？\",\"fromMall\":true,\"userIdEncryption\":\"\",\"sellerId\":726984974,\"videoList\":[],\"displayUserLink\":\"\",\"id\":1122317116449,\"aliMallSeller\":false,\"reply\":\"亲亲，抱歉给您带来的不便，我们会加强对酒水包装的完善，同时也感谢您的宝贵建议，因为有您的指导，我们才能更优秀，为您提供好的购物体验，感谢您的支持，祝您生活愉快！\",\"pics\":[\"//img.alicdn.com/bao/uploaded/i2/O1CN01vWQ2R41vEAVLHbsko_!!0-tmallfun.jpg\",\"//img.alicdn.com/bao/uploaded/i4/O1CN01eYcI0020fG0Tulfg7_!!0-tmallfun.jpg\"],\"buyCount\":0,\"userVipLevel\":0,\"auctionSku\":\"\",\"anony\":false,\"displayUserNumId\":0,\"goldUser\":true,\"attributesMap\":null,\"tradeEndTime\":{\"date\":21,\"hours\":9,\"seconds\":40,\"month\":1,\"timezoneOffset\":-480,\"year\":121,\"minutes\":57,\"time\":1613872660000,\"day\":0},\"headExtraPic\":\"\",\"aucNumId\":0,\"displayUserNick\":\"z***3\",\"structuredRateList\":[],\"carServiceLocation\":\"\",\"userVipPic\":\"\",\"serviceRateContent\":\"\",\"memberIcon\":\"\",\"attributes\":\"\",\"position\":\"920-13-36,39;1542-12-10,18;620-12-0,9;620-12-19,35;10071020-13-36,39;1001011-11-10,18;\",\"cmsSource\":\"天猫\",\"tamllSweetLevel\":1,\"gmtCreateTime\":{\"date\":21,\"hours\":10,\"seconds\":40,\"month\":1,\"timezoneOffset\":-480,\"year\":121,\"minutes\":0,\"time\":1613872840000,\"day\":0},\"useful\":true,\"displayUserRateLink\":\"\"},{\"auctionPicUrl\":\"\",\"userInfo\":\"\",\"displayRatePic\":\"\",\"dsr\":0,\"displayRateSum\":0,\"appendComment\":null,\"fromMemory\":0,\"picsSmall\":[],\"tmallSweetPic\":\"tmall-grade-t3-18.png\",\"rateDate\":\"2020-12-20 09:39:23\",\"rateContent\":\"应该是真品，各种对照😂。包装很好，收到货，酒盒无破损，酒无泄漏，品相不错，但用茅台溯源软件溯源无反应，搞得比较郁闷！\",\"fromMall\":true,\"userIdEncryption\":\"\",\"sellerId\":726984974,\"videoList\":[],\"displayUserLink\":\"\",\"id\":1115296052090,\"aliMallSeller\":false,\"reply\":\"\",\"pics\":[\"//img.alicdn.com/bao/uploaded/i1/O1CN01r4A5q31mbgHO8urqA_!!0-rate.jpg\"],\"buyCount\":0,\"userVipLevel\":0,\"auctionSku\":\"\",\"anony\":false,\"displayUserNumId\":0,\"goldUser\":true,\"attributesMap\":null,\"tradeEndTime\":{\"date\":20,\"hours\":8,\"seconds\":53,\"month\":11,\"timezoneOffset\":-480,\"year\":120,\"minutes\":55,\"time\":1608425753000,\"day\":0},\"headExtraPic\":\"\",\"aucNumId\":0,\"displayUserNick\":\"人***1\",\"structuredRateList\":[],\"carServiceLocation\":\"\",\"userVipPic\":\"\",\"serviceRateContent\":\"\",\"memberIcon\":\"\",\"attributes\":\"\",\"position\":\"620-12-28,32;220-11-13,17;1020-11-0,5;920-11-22,27;10031004-11-13,17;10041002-11-33,37;\",\"cmsSource\":\"天猫\",\"tamllSweetLevel\":3,\"gmtCreateTime\":{\"date\":20,\"hours\":9,\"seconds\":23,\"month\":11,\"timezoneOffset\":-480,\"year\":120,\"minutes\":39,\"time\":1608428363000,\"day\":0},\"useful\":true,\"displayUserRateLink\":\"\"}],\"searchinfo\":\"\",\"from\":\"search\",\"paginator\":{\"lastPage\":9,\"page\":1,\"items\":173},\"tags\":[]}})'"
      ]
     },
     "execution_count": 10,
     "metadata": {},
     "output_type": "execute_result"
    }
   ],
   "source": [
    "data = requests.get(url2, headers = headers).text\n",
    "data"
   ]
  },
  {
   "cell_type": "code",
   "execution_count": 11,
   "metadata": {},
   "outputs": [],
   "source": [
    "#解析数据：通过正则提取出来评论\n",
    "import re"
   ]
  },
  {
   "cell_type": "code",
   "execution_count": 12,
   "metadata": {},
   "outputs": [],
   "source": [
    "#发现规律-套路\n",
    "#搞一个匹配规则出来，\"rateContent\":\"想要的评论内容 \"，\"fromMall\"\n",
    "#pat(pattern模式)\n",
    "pat = re.compile('\"rateContent\":\"(.*?)\",\"fromMall\"')"
   ]
  },
  {
   "cell_type": "code",
   "execution_count": 13,
   "metadata": {},
   "outputs": [
    {
     "data": {
      "text/plain": [
       "['货已收到，品相完美',\n",
       " '买完就便宜了二百多，😂😂😂',\n",
       " '之前根据经验，所有的条件都符合真品，只有把头不松动，为确保，找了三家实体店铺鉴定的，应该不是假货吧',\n",
       " '此用户没有填写评论!',\n",
       " '包装精美大气，鉴定正品，商家服务态度良好，值得收藏！',\n",
       " '真的，没问题，闻了下是酱油香味。',\n",
       " '真的，没毛病。一支喝一支收藏',\n",
       " '品质很不错🍆，性价比比较高的的商品🍀，喜欢的亲可以直接下手不要犹豫哦📍',\n",
       " '买来收藏了，自己目测应该是真品',\n",
       " '🎈商品收到了，包装得很好，物流非常快，客服态度很积极，有问题及时解答！总体来说非常满意！',\n",
       " '品质保证',\n",
       " '包装还是很精致的，因为特殊的年份，对我有着特殊的意义，所以准备长期留着。',\n",
       " '外包装很好，标签清楚，应该是正品',\n",
       " '发货很快，客服，专业知识度不高，问怎么鉴定，居然教了王子酒的防伪标鉴定图片方法给我😷。猪茅，瓶盖无法松动，不知道是会松才好还是紧的才对？',\n",
       " '不知是真是假',\n",
       " '收到猪茅开箱验货发现有瑕疵，而且有点跑酒，联系卖家更换后完美，不错的购物，待检验真假。',\n",
       " '东西包装很好，没有漏酒',\n",
       " '快递很快，服务一流！',\n",
       " '这瓶跑酒有那么一点，在重量上还能接受！就这个防伪介绍是放在酒后面压着的！都破了！这个不是影响商品的价值的吗？',\n",
       " '应该是真品，各种对照😂。包装很好，收到货，酒盒无破损，酒无泄漏，品相不错，但用茅台溯源软件溯源无反应，搞得比较郁闷！']"
      ]
     },
     "execution_count": 13,
     "metadata": {},
     "output_type": "execute_result"
    }
   ],
   "source": [
    "#按照匹配规则找出评论来\n",
    "pat.findall(data)"
   ]
  },
  {
   "cell_type": "code",
   "execution_count": 14,
   "metadata": {},
   "outputs": [],
   "source": [
    "import time"
   ]
  },
  {
   "cell_type": "code",
   "execution_count": 1,
   "metadata": {},
   "outputs": [
    {
     "name": "stdout",
     "output_type": "stream",
     "text": [
      "Help on method_descriptor:\n",
      "\n",
      "append(self, object, /)\n",
      "    Append object to the end of the list.\n",
      "\n"
     ]
    }
   ],
   "source": [
    "help(list.append) #每次只添加一个列表元素，且添加的对象可以任意"
   ]
  },
  {
   "cell_type": "code",
   "execution_count": 2,
   "metadata": {},
   "outputs": [
    {
     "name": "stdout",
     "output_type": "stream",
     "text": [
      "Help on method_descriptor:\n",
      "\n",
      "extend(self, iterable, /)\n",
      "    Extend list by appending elements from the iterable.\n",
      "\n"
     ]
    }
   ],
   "source": [
    "help(list.extend) #要求输入参数为可迭代对象，并且会将输入参数中的所有元素依次添加到list末尾"
   ]
  },
  {
   "cell_type": "code",
   "execution_count": 16,
   "metadata": {},
   "outputs": [
    {
     "name": "stdout",
     "output_type": "stream",
     "text": [
      "爬完了第2页\n",
      "爬完了第3页\n"
     ]
    }
   ],
   "source": [
    "#如何获取更多页的评论呢？通过改变评论url中的页码数\n",
    "texts = []\n",
    "for n in range(2,4):\n",
    "    url2 = 'https://rate.tmall.com/list_detail_rate.htm?itemId=602738760307&spuId=1358143318&sellerId=726984974&order=3&currentPage='+str(n)+'&append=0&content=1&tagId=&posi=&picture=&groupId=&ua=098%23E1hvaQvEvbQvUvCkvvvvvjiWPLcpsjEmPFLhgjEUPmPwljEvRsdZ6jEvR2zZ0j3R39hvCvmvphvgvpvhvvCvpvgCvvpvvPMMmvhvLUCg40%2BaAf8QrX6Fp%2B0xhEkXj7hjlfe1Rdozb9fB%2BbJZSfyzcrVnnCozD2rO3w0AhC9aWDNBlLyzhbUfbjc6%2Bu64deQEfamK5d8raAuUvpvVvpCmp%2FLvuvhvmvvvpL9g7WnSKvhv8vvvphvvvvvvvvCm%2Bpvvvf9vvhZLvvmCvvvvBBWvvvH%2BvvCHhQvvv7QvvpvVvUCvpvvvi9hvCvvvpZp%3D&needFold=0&_ksTS=1619439030448_424&callback=jsonp425'\n",
    "    #增加延时，控制爬虫速度(因为爬虫速度很快)，不容易触发反爬，省得被发现是爬虫\n",
    "    time.sleep(3)\n",
    "    data = requests.get(url2, headers = headers).text\n",
    "    texts.extend(pat.findall(data))\n",
    "    # +str(n)+ : 可把多个字符串拼接成一个完整的字符串\n",
    "    print('爬完了第'+str(n)+'页') # 非必须，了解进度"
   ]
  },
  {
   "cell_type": "code",
   "execution_count": 17,
   "metadata": {},
   "outputs": [
    {
     "data": {
      "text/plain": [
       "['酒不错，查了一下是正品，附近门店直接送货。半个小时就收到了，送货是真的快，包装也很漂亮，以后就在你家买酒了，再也不怕买到假酒了',\n",
       " '瓶盖松动，正不正品自己没有办法检测，送人的，反正开票说的是开，买了个把月没有开。',\n",
       " '大公司，买的放心',\n",
       " '此用户没有填写评论!',\n",
       " '建议瓶内酒瓶口与盒子之间增加防护，不然平放磨损厉害。',\n",
       " '还可以，看样子是正品',\n",
       " '包装有待提高，有点磨损。',\n",
       " '此用户没有填写评论!',\n",
       " '确是正品，验货无问题！物流很快，送货上门，态度很好！没有漏酒问题！',\n",
       " '正品无疑，顺丰快递好评',\n",
       " '顺丰快递好评，酒也是正品',\n",
       " '很不错的购物体验，惊艳！',\n",
       " '真酒，比找熟人买靠谱',\n",
       " '此用户没有填写评论!',\n",
       " '不错，一家人属猪就买一瓶猪年当时纪念',\n",
       " '相信品牌',\n",
       " '买了很多，货真价实',\n",
       " '瓶盖底部有瑕疵、背标有压痕....客服说正常，不同意换！无语...',\n",
       " '有货了继续买 还是那句话 我信这家店',\n",
       " '包起来了，囤货，珍藏！',\n",
       " '产品质量，客服服务态度特别好，很喜欢，好评',\n",
       " '购物体验非常差，扫防伪码查不出任何信息，客服全是机器人，发货搞错了好几回',\n",
       " '暂未鉴定，相信卖家。品尝鉴定后再追加评价',\n",
       " '很好的宝贝，包装也不错，顺丰速递。赞一个',\n",
       " '酒看着不错',\n",
       " '买来收藏的。',\n",
       " '不会鉴别',\n",
       " '此用户没有填写评论!',\n",
       " '此用户没有填写评论!',\n",
       " '外观品相：茅台还用说什么',\n",
       " '我下单留言开发票，不开，要去催才慢悠悠的开，是想偷税漏税吗',\n",
       " '要小心了，一瓶酒三个溯源码，瓶身码还无法溯源，酒盖还是花的，自己的防伪码还自己说无法作为真假依据，解释是退货多才会这样&hellip;&hellip;等着假一赔十',\n",
       " '12月12日下的单，下单的时候申请了开发票，16日收到的酒，到今天12月26**，发票还没开好，办事效率太低了吧，或者说卖家根本没用把开票当一回事。酒是寄到我老婆公司的，是真是假后期再追评！',\n",
       " '商家服务好，物流很快，包装完整。',\n",
       " '我不说 自己看 。。。。',\n",
       " '没有防伪溯源码，但应该是正品吧，没有验真，希望没问题，选择相信商家',\n",
       " '遇到了一点小问题，好不容易才通过客服解决，好评吧。',\n",
       " '外观品相：很差，给拆封包装，简直就是破换原包装，瓶身很多物渍。包装盒有很多印迹。',\n",
       " '外包装磨损了，酒看上去还行',\n",
       " '看了很多评价，说不太好，我也是个完美主义者，对品相有着一定的追求，我一早就去顺丰营业部去亲自验收，打开来看，很大的酒味，但是看上去没有漏酒，但是1919作为一个大品牌，包装里面连个小票都没有，我也是醉了，真的担心买到假货啊，好运的是我两个月前预约了茅台打假办的真假鉴定，今天终于到我可以去鉴定了，排期都排了2个月啊，之前在其它地方买的鸡茅，想鉴定一下是否真的，这个猪茅刚好到货了，怀着忐忑不安的心情带着2瓶酒去鉴定，鉴定场所不准拍照录像，等了5分钟，鉴定人员说是真的，我终于松了一口气，这个1919买的猪茅上面的防伪码是查询不到任何信息的，但是鉴定完毕后是真的我终于放下了心头大石，拿电子称称了，重1000g，给个建议，里面起码给张小票说明哪里发货吧，防伪码扫描不了就不要贴上去，这样更好啊，酒是真酒，最后祝大家都买到自己喜欢的酒。']"
      ]
     },
     "execution_count": 17,
     "metadata": {},
     "output_type": "execute_result"
    }
   ],
   "source": [
    "texts"
   ]
  },
  {
   "cell_type": "code",
   "execution_count": null,
   "metadata": {},
   "outputs": [],
   "source": [
    "#保存数据"
   ]
  },
  {
   "cell_type": "code",
   "execution_count": 20,
   "metadata": {},
   "outputs": [],
   "source": [
    "import pandas as pd"
   ]
  },
  {
   "cell_type": "code",
   "execution_count": 21,
   "metadata": {},
   "outputs": [],
   "source": [
    "#创建一个空的数据表\n",
    "df = pd.DataFrame()"
   ]
  },
  {
   "cell_type": "code",
   "execution_count": 22,
   "metadata": {},
   "outputs": [
    {
     "data": {
      "text/html": [
       "<div>\n",
       "<style scoped>\n",
       "    .dataframe tbody tr th:only-of-type {\n",
       "        vertical-align: middle;\n",
       "    }\n",
       "\n",
       "    .dataframe tbody tr th {\n",
       "        vertical-align: top;\n",
       "    }\n",
       "\n",
       "    .dataframe thead th {\n",
       "        text-align: right;\n",
       "    }\n",
       "</style>\n",
       "<table border=\"1\" class=\"dataframe\">\n",
       "  <thead>\n",
       "    <tr style=\"text-align: right;\">\n",
       "      <th></th>\n",
       "    </tr>\n",
       "  </thead>\n",
       "  <tbody>\n",
       "  </tbody>\n",
       "</table>\n",
       "</div>"
      ],
      "text/plain": [
       "Empty DataFrame\n",
       "Columns: []\n",
       "Index: []"
      ]
     },
     "execution_count": 22,
     "metadata": {},
     "output_type": "execute_result"
    }
   ],
   "source": [
    "df"
   ]
  },
  {
   "cell_type": "code",
   "execution_count": 23,
   "metadata": {},
   "outputs": [],
   "source": [
    "df['评论'] = texts"
   ]
  },
  {
   "cell_type": "code",
   "execution_count": 24,
   "metadata": {},
   "outputs": [
    {
     "data": {
      "text/html": [
       "<div>\n",
       "<style scoped>\n",
       "    .dataframe tbody tr th:only-of-type {\n",
       "        vertical-align: middle;\n",
       "    }\n",
       "\n",
       "    .dataframe tbody tr th {\n",
       "        vertical-align: top;\n",
       "    }\n",
       "\n",
       "    .dataframe thead th {\n",
       "        text-align: right;\n",
       "    }\n",
       "</style>\n",
       "<table border=\"1\" class=\"dataframe\">\n",
       "  <thead>\n",
       "    <tr style=\"text-align: right;\">\n",
       "      <th></th>\n",
       "      <th>评论</th>\n",
       "    </tr>\n",
       "  </thead>\n",
       "  <tbody>\n",
       "    <tr>\n",
       "      <th>0</th>\n",
       "      <td>酒不错，查了一下是正品，附近门店直接送货。半个小时就收到了，送货是真的快，包装也很漂亮，以后...</td>\n",
       "    </tr>\n",
       "    <tr>\n",
       "      <th>1</th>\n",
       "      <td>瓶盖松动，正不正品自己没有办法检测，送人的，反正开票说的是开，买了个把月没有开。</td>\n",
       "    </tr>\n",
       "    <tr>\n",
       "      <th>2</th>\n",
       "      <td>大公司，买的放心</td>\n",
       "    </tr>\n",
       "    <tr>\n",
       "      <th>3</th>\n",
       "      <td>此用户没有填写评论!</td>\n",
       "    </tr>\n",
       "    <tr>\n",
       "      <th>4</th>\n",
       "      <td>建议瓶内酒瓶口与盒子之间增加防护，不然平放磨损厉害。</td>\n",
       "    </tr>\n",
       "    <tr>\n",
       "      <th>5</th>\n",
       "      <td>还可以，看样子是正品</td>\n",
       "    </tr>\n",
       "    <tr>\n",
       "      <th>6</th>\n",
       "      <td>包装有待提高，有点磨损。</td>\n",
       "    </tr>\n",
       "    <tr>\n",
       "      <th>7</th>\n",
       "      <td>此用户没有填写评论!</td>\n",
       "    </tr>\n",
       "    <tr>\n",
       "      <th>8</th>\n",
       "      <td>确是正品，验货无问题！物流很快，送货上门，态度很好！没有漏酒问题！</td>\n",
       "    </tr>\n",
       "    <tr>\n",
       "      <th>9</th>\n",
       "      <td>正品无疑，顺丰快递好评</td>\n",
       "    </tr>\n",
       "    <tr>\n",
       "      <th>10</th>\n",
       "      <td>顺丰快递好评，酒也是正品</td>\n",
       "    </tr>\n",
       "    <tr>\n",
       "      <th>11</th>\n",
       "      <td>很不错的购物体验，惊艳！</td>\n",
       "    </tr>\n",
       "    <tr>\n",
       "      <th>12</th>\n",
       "      <td>真酒，比找熟人买靠谱</td>\n",
       "    </tr>\n",
       "    <tr>\n",
       "      <th>13</th>\n",
       "      <td>此用户没有填写评论!</td>\n",
       "    </tr>\n",
       "    <tr>\n",
       "      <th>14</th>\n",
       "      <td>不错，一家人属猪就买一瓶猪年当时纪念</td>\n",
       "    </tr>\n",
       "    <tr>\n",
       "      <th>15</th>\n",
       "      <td>相信品牌</td>\n",
       "    </tr>\n",
       "    <tr>\n",
       "      <th>16</th>\n",
       "      <td>买了很多，货真价实</td>\n",
       "    </tr>\n",
       "    <tr>\n",
       "      <th>17</th>\n",
       "      <td>瓶盖底部有瑕疵、背标有压痕....客服说正常，不同意换！无语...</td>\n",
       "    </tr>\n",
       "    <tr>\n",
       "      <th>18</th>\n",
       "      <td>有货了继续买 还是那句话 我信这家店</td>\n",
       "    </tr>\n",
       "    <tr>\n",
       "      <th>19</th>\n",
       "      <td>包起来了，囤货，珍藏！</td>\n",
       "    </tr>\n",
       "    <tr>\n",
       "      <th>20</th>\n",
       "      <td>产品质量，客服服务态度特别好，很喜欢，好评</td>\n",
       "    </tr>\n",
       "    <tr>\n",
       "      <th>21</th>\n",
       "      <td>购物体验非常差，扫防伪码查不出任何信息，客服全是机器人，发货搞错了好几回</td>\n",
       "    </tr>\n",
       "    <tr>\n",
       "      <th>22</th>\n",
       "      <td>暂未鉴定，相信卖家。品尝鉴定后再追加评价</td>\n",
       "    </tr>\n",
       "    <tr>\n",
       "      <th>23</th>\n",
       "      <td>很好的宝贝，包装也不错，顺丰速递。赞一个</td>\n",
       "    </tr>\n",
       "    <tr>\n",
       "      <th>24</th>\n",
       "      <td>酒看着不错</td>\n",
       "    </tr>\n",
       "    <tr>\n",
       "      <th>25</th>\n",
       "      <td>买来收藏的。</td>\n",
       "    </tr>\n",
       "    <tr>\n",
       "      <th>26</th>\n",
       "      <td>不会鉴别</td>\n",
       "    </tr>\n",
       "    <tr>\n",
       "      <th>27</th>\n",
       "      <td>此用户没有填写评论!</td>\n",
       "    </tr>\n",
       "    <tr>\n",
       "      <th>28</th>\n",
       "      <td>此用户没有填写评论!</td>\n",
       "    </tr>\n",
       "    <tr>\n",
       "      <th>29</th>\n",
       "      <td>外观品相：茅台还用说什么</td>\n",
       "    </tr>\n",
       "    <tr>\n",
       "      <th>30</th>\n",
       "      <td>我下单留言开发票，不开，要去催才慢悠悠的开，是想偷税漏税吗</td>\n",
       "    </tr>\n",
       "    <tr>\n",
       "      <th>31</th>\n",
       "      <td>要小心了，一瓶酒三个溯源码，瓶身码还无法溯源，酒盖还是花的，自己的防伪码还自己说无法作为真假...</td>\n",
       "    </tr>\n",
       "    <tr>\n",
       "      <th>32</th>\n",
       "      <td>12月12日下的单，下单的时候申请了开发票，16日收到的酒，到今天12月26**，发票还没开...</td>\n",
       "    </tr>\n",
       "    <tr>\n",
       "      <th>33</th>\n",
       "      <td>商家服务好，物流很快，包装完整。</td>\n",
       "    </tr>\n",
       "    <tr>\n",
       "      <th>34</th>\n",
       "      <td>我不说 自己看 。。。。</td>\n",
       "    </tr>\n",
       "    <tr>\n",
       "      <th>35</th>\n",
       "      <td>没有防伪溯源码，但应该是正品吧，没有验真，希望没问题，选择相信商家</td>\n",
       "    </tr>\n",
       "    <tr>\n",
       "      <th>36</th>\n",
       "      <td>遇到了一点小问题，好不容易才通过客服解决，好评吧。</td>\n",
       "    </tr>\n",
       "    <tr>\n",
       "      <th>37</th>\n",
       "      <td>外观品相：很差，给拆封包装，简直就是破换原包装，瓶身很多物渍。包装盒有很多印迹。</td>\n",
       "    </tr>\n",
       "    <tr>\n",
       "      <th>38</th>\n",
       "      <td>外包装磨损了，酒看上去还行</td>\n",
       "    </tr>\n",
       "    <tr>\n",
       "      <th>39</th>\n",
       "      <td>看了很多评价，说不太好，我也是个完美主义者，对品相有着一定的追求，我一早就去顺丰营业部去亲自...</td>\n",
       "    </tr>\n",
       "  </tbody>\n",
       "</table>\n",
       "</div>"
      ],
      "text/plain": [
       "                                                   评论\n",
       "0   酒不错，查了一下是正品，附近门店直接送货。半个小时就收到了，送货是真的快，包装也很漂亮，以后...\n",
       "1            瓶盖松动，正不正品自己没有办法检测，送人的，反正开票说的是开，买了个把月没有开。\n",
       "2                                            大公司，买的放心\n",
       "3                                          此用户没有填写评论!\n",
       "4                          建议瓶内酒瓶口与盒子之间增加防护，不然平放磨损厉害。\n",
       "5                                          还可以，看样子是正品\n",
       "6                                        包装有待提高，有点磨损。\n",
       "7                                          此用户没有填写评论!\n",
       "8                   确是正品，验货无问题！物流很快，送货上门，态度很好！没有漏酒问题！\n",
       "9                                         正品无疑，顺丰快递好评\n",
       "10                                       顺丰快递好评，酒也是正品\n",
       "11                                       很不错的购物体验，惊艳！\n",
       "12                                         真酒，比找熟人买靠谱\n",
       "13                                         此用户没有填写评论!\n",
       "14                                 不错，一家人属猪就买一瓶猪年当时纪念\n",
       "15                                               相信品牌\n",
       "16                                          买了很多，货真价实\n",
       "17                  瓶盖底部有瑕疵、背标有压痕....客服说正常，不同意换！无语...\n",
       "18                                 有货了继续买 还是那句话 我信这家店\n",
       "19                                        包起来了，囤货，珍藏！\n",
       "20                              产品质量，客服服务态度特别好，很喜欢，好评\n",
       "21               购物体验非常差，扫防伪码查不出任何信息，客服全是机器人，发货搞错了好几回\n",
       "22                               暂未鉴定，相信卖家。品尝鉴定后再追加评价\n",
       "23                               很好的宝贝，包装也不错，顺丰速递。赞一个\n",
       "24                                              酒看着不错\n",
       "25                                             买来收藏的。\n",
       "26                                               不会鉴别\n",
       "27                                         此用户没有填写评论!\n",
       "28                                         此用户没有填写评论!\n",
       "29                                       外观品相：茅台还用说什么\n",
       "30                      我下单留言开发票，不开，要去催才慢悠悠的开，是想偷税漏税吗\n",
       "31  要小心了，一瓶酒三个溯源码，瓶身码还无法溯源，酒盖还是花的，自己的防伪码还自己说无法作为真假...\n",
       "32  12月12日下的单，下单的时候申请了开发票，16日收到的酒，到今天12月26**，发票还没开...\n",
       "33                                   商家服务好，物流很快，包装完整。\n",
       "34                                       我不说 自己看 。。。。\n",
       "35                  没有防伪溯源码，但应该是正品吧，没有验真，希望没问题，选择相信商家\n",
       "36                          遇到了一点小问题，好不容易才通过客服解决，好评吧。\n",
       "37           外观品相：很差，给拆封包装，简直就是破换原包装，瓶身很多物渍。包装盒有很多印迹。\n",
       "38                                      外包装磨损了，酒看上去还行\n",
       "39  看了很多评价，说不太好，我也是个完美主义者，对品相有着一定的追求，我一早就去顺丰营业部去亲自..."
      ]
     },
     "execution_count": 24,
     "metadata": {},
     "output_type": "execute_result"
    }
   ],
   "source": [
    "df"
   ]
  },
  {
   "cell_type": "code",
   "execution_count": 25,
   "metadata": {},
   "outputs": [],
   "source": [
    "df.to_excel('茅台评论数据.xlsx')"
   ]
  },
  {
   "cell_type": "code",
   "execution_count": null,
   "metadata": {},
   "outputs": [],
   "source": [
    "#总结过程：\n",
    "#给出想要爬取的目标网页，从网页上获取数据；\n",
    "#找到数据所在的真实的网页，重新发起请求获取数据；\n",
    "#伪装成浏览器，绕开反爬；\n",
    "#提取出想要的数据；\n",
    "#获取多页评论数据；\n",
    "#使用pandas把数据保存为excel表"
   ]
  }
 ],
 "metadata": {
  "kernelspec": {
   "display_name": "Python 3",
   "language": "python",
   "name": "python3"
  },
  "language_info": {
   "codemirror_mode": {
    "name": "ipython",
    "version": 3
   },
   "file_extension": ".py",
   "mimetype": "text/x-python",
   "name": "python",
   "nbconvert_exporter": "python",
   "pygments_lexer": "ipython3",
   "version": "3.7.3"
  }
 },
 "nbformat": 4,
 "nbformat_minor": 2
}
