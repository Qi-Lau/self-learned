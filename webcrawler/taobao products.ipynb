# 素质四连，固定套路
# 导入模块
from selenium import webdriver
# 指定网址
url = 'https://www.taobao.com/'
# 打开浏览器，指定为chrome浏览器
driver = webdriver.Chrome(r"C:\Users\admin\Desktop\chromedriver.exe")
# 加载网页
driver.get(url)


# 
url ='https://weibo.com/login.php?spm=a2107.1.0.0.cdfa11d92VSJXt&entry=taobao&goto=https%3A%2F%2Flogin.taobao.com%2Faso%2Ftvs%3Fdomain%3Dweibo%26sid%3D8a741a03561f6b89508c5ac585871d95%26target%3D68747470733A2F2F7777772E74616F62616F2E636F6D2F&goto2=https%3A%2F%2Fwww.taobao.com%2F'
# 加载网页
driver.get(url)

# 目标是获取手机名称、价格、月销量、评论数

# 获取所有商品的链接
pros = driver.find_elements_by_xpath('//div[@class="row row-2 title"]/a')

len(pros)

pros[0].click()

# 操作对象切换到打开的页面
driver.switch_to.window(driver.window_handles[1])

# 商品名称,注意使用单数的element
title = driver.find_element_by_xpath('//h1[@data-spm="1000983"]').text
print(title)
# 价格
price = driver.find_element_by_xpath('//div[@class="tm-promo-price"]').text
print(price)
# 月销量
mcount = driver.find_element_by_xpath('//span[@class="tm-count"]').text
print(mcount)
# 评论数
ccount = driver.find_element_by_xpath('//li[@class="tm-ind-item tm-ind-reviewCount canClick tm-line3"]//span[@class="tm-count"]').text
print(ccount)

# 关闭页面
driver.close()

# 页面切换回来
driver.switch_to.window(driver.window_handles[0])

# 先爬取3个商品试试
for i in pros[:3]:
    i.click()
    driver.switch_to.window(driver.window_handles[1]) 
    # 商品名称,注意使用单数的element
    title = driver.find_element_by_xpath('//h1[@data-spm="1000983"]').text
    print(title)
    # 价格
    price = driver.find_element_by_xpath('//div[@class="tm-promo-price"]').text
    print(price)
    # 月销量
    mcount = driver.find_element_by_xpath('//span[@class="tm-count"]').text
    print(mcount)
    # 评论数
    ccount = driver.find_element_by_xpath('//li[@class="tm-ind-item tm-ind-reviewCount canClick tm-line3"]//span[@class="tm-count"]').text
    print(ccount)
    print('===================')
    driver.close()
    driver.switch_to.window(driver.window_handles[0])    

# 优化代码
# 存储
titles =[]
prices =[]
mcounts=[]
ccounts = []
for i in pros[:15]:
    i.click()
    driver.switch_to.window(driver.window_handles[1]) 
    # 商品名称,注意使用单数的element
    title = driver.find_element_by_xpath('//h1[@data-spm="1000983"]').text
    print(title)
    # 价格
    price = driver.find_element_by_xpath('//div[@class="tm-promo-price"]').text
    print(price)
    # 月销量
    mcount = driver.find_element_by_xpath('//span[@class="tm-count"]').text
    print(mcount)
    # 评论数
    ccount = driver.find_element_by_xpath('//li[@class="tm-ind-item tm-ind-reviewCount canClick tm-line3"]//span[@class="tm-count"]').text
    print(ccount)
    print('===================')
    # 存储
    titles.append(title)
    prices.append(price)
    mcounts.append(mcount)
    ccounts.append(ccount)
    driver.close()
    driver.switch_to.window(driver.window_handles[0])    

import pandas as pd

data = pd.DataFrame()
data['名称'] = titles
data['价格']= prices


data

data.to_excel('淘宝商品数据.xlsx')
