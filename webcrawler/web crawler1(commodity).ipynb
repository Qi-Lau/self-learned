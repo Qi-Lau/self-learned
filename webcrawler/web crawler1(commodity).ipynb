{
 "cells": [
  {
   "cell_type": "code",
   "execution_count": 1,
   "metadata": {},
   "outputs": [],
   "source": [
    "#导入模块\n",
    "from selenium import webdriver\n",
    "#指定网址\n",
    "url='https://www.taobao.com/'\n",
    "#打开浏览器，指定为chrome浏览器\n",
    "driver=webdriver.Chrome(r'C:\\Users\\Administrator\\AppData\\Local\\Google\\Chrome\\Application\\chromedriver_win32\\chromedriver.exe')\n",
    "#加载网页\n",
    "driver.get(url)"
   ]
  },
  {
   "cell_type": "code",
   "execution_count": 2,
   "metadata": {},
   "outputs": [],
   "source": [
    "url='https://weibo.com/login.php?spm=a2107.1.0.0.3ae311d9ZVwqU0&entry=taobao&goto=https%3A%2F%2Flogin.taobao.com%2Faso%2Ftvs%3Fdomain%3Dweibo%26sid%3Dfe4560a616b2305c67f204a0fdf70165%26target%3D68747470733A2F2F7777772E74616F62616F2E636F6D2F&goto2=https%3A%2F%2Fwww.taobao.com%2F'\n",
    "driver.get(url)"
   ]
  },
  {
   "cell_type": "code",
   "execution_count": 3,
   "metadata": {},
   "outputs": [],
   "source": [
    "#目标：获取手机名称，价格，月销量，评论数"
   ]
  },
  {
   "cell_type": "code",
   "execution_count": 5,
   "metadata": {},
   "outputs": [],
   "source": [
    "#获取所有商品(元素/链接) 网页右键inspect(检查)可看到开发源码，点左上角箭头然后扫到对应要查找的内容进而对应相应源码/路径\n",
    "pros= driver.find_elements_by_xpath('//div[@class=\"row row-2 title\"]/a')"
   ]
  },
  {
   "cell_type": "code",
   "execution_count": 6,
   "metadata": {},
   "outputs": [
    {
     "data": {
      "text/plain": [
       "0"
      ]
     },
     "execution_count": 6,
     "metadata": {},
     "output_type": "execute_result"
    }
   ],
   "source": [
    "len(pros) # 输出：44"
   ]
  },
  {
   "cell_type": "code",
   "execution_count": 7,
   "metadata": {},
   "outputs": [
    {
     "ename": "IndexError",
     "evalue": "list index out of range",
     "output_type": "error",
     "traceback": [
      "\u001b[1;31m---------------------------------------------------------------------------\u001b[0m",
      "\u001b[1;31mIndexError\u001b[0m                                Traceback (most recent call last)",
      "\u001b[1;32m<ipython-input-7-bdf406e776dd>\u001b[0m in \u001b[0;36m<module>\u001b[1;34m\u001b[0m\n\u001b[1;32m----> 1\u001b[1;33m \u001b[0mpros\u001b[0m\u001b[1;33m[\u001b[0m\u001b[1;36m0\u001b[0m\u001b[1;33m]\u001b[0m\u001b[1;33m.\u001b[0m\u001b[0mclick\u001b[0m\u001b[1;33m(\u001b[0m\u001b[1;33m)\u001b[0m \u001b[1;31m#打开第0个商品链接\u001b[0m\u001b[1;33m\u001b[0m\u001b[1;33m\u001b[0m\u001b[0m\n\u001b[0m",
      "\u001b[1;31mIndexError\u001b[0m: list index out of range"
     ]
    }
   ],
   "source": [
    "pros[0].click() #需指定打开其中一个,如,打开第0个商品链接"
   ]
  },
  {
   "cell_type": "code",
   "execution_count": null,
   "metadata": {},
   "outputs": [],
   "source": [
    "#需手动指定：操作对象切换到打开的页面(如,到第0个商品链接页面)\n",
    "driver.switch_to.window(driver.window_handles[1])"
   ]
  },
  {
   "cell_type": "code",
   "execution_count": null,
   "metadata": {},
   "outputs": [],
   "source": [
    "#获取商品名称，注意使用单数的element\n",
    "title= driver.find_element_by_xpath('//h1[@data-spm=\"1000983\"]').text\n",
    "print(title)\n",
    "#价格\n",
    "price=driver.find_element_by_xpath('//div[@class=\"tm-promo-price\"]').text\n",
    "print(price)\n",
    "#月销量\n",
    "mcount=driver.find_element_by_xpath('//span[@class=\"tm-count\"]').text\n",
    "print(mcount)\n",
    "#评论数(当子类名称一样，找父类，父类一样找爷爷类... 找到不同的类使其加在最初子类前面表示一种限定)\n",
    "ccount=driver.find_element_by_path('//liv[@class=\"tm-ind-item tm-ind-reviewCount canClick tm-line3\"]//span[@class=\"tm-count\"]')\n",
    "print(ccount)"
   ]
  },
  {
   "cell_type": "code",
   "execution_count": null,
   "metadata": {},
   "outputs": [],
   "source": [
    "#关闭页面\n",
    "driver.close() #此刻关闭了当前第0个商品链接页面"
   ]
  },
  {
   "cell_type": "code",
   "execution_count": null,
   "metadata": {},
   "outputs": [],
   "source": [
    "#必要操作：页面切换回来(到所有商品页面),因为之前driver还停留在window[1],需手动改动\n",
    "driver.switch_to.window(driver.window_handles[0])"
   ]
  },
  {
   "cell_type": "code",
   "execution_count": null,
   "metadata": {},
   "outputs": [],
   "source": [
    "#批量爬取\n",
    "#如先爬取三个商品\n",
    "for i in pros[:3]:\n",
    "    i.click()\n",
    "    driver.switch_to_window(driver.window_handles[1])\n",
    "    #获取商品名称，注意使用单数的element\n",
    "    title= driver.find_element_by_xpath('//h1[@data-spm=\"1000983\"]').text\n",
    "    print(title)\n",
    "    #价格\n",
    "    price=driver.find_element_by_xpath('//div[@class=\"tm-promo-price\"]').text\n",
    "    print(price)\n",
    "    #月销量\n",
    "    mcount=driver.find_element_by_xpath('//span[@class=\"tm-count\"]').text\n",
    "    print(mcount)\n",
    "    #评论数(当子类名称一样，找父类，父类一样找爷爷类... 找到不同的类使其加在最初子类前面表示一种限定)\n",
    "    ccount=driver.find_element_by_path('//liv[@class=\"tm-ind-item tm-ind-reviewCount canClick tm-line3\"]//span[@class=\"tm-count\"]')\n",
    "    print(ccount)\n",
    "    print('===========')\n",
    "    driver.close()\n",
    "    driver.switch_to_window(driver.window_handles[0])"
   ]
  },
  {
   "cell_type": "code",
   "execution_count": null,
   "metadata": {},
   "outputs": [],
   "source": [
    "#优化代码 批量爬取\n",
    "#存储\n",
    "titles=[]\n",
    "prices=[]\n",
    "mcounts=[]\n",
    "ccounts=[]\n",
    "\n",
    "for i in pros:\n",
    "    i.click()\n",
    "    driver.switch_to_window(driver.window_handles[1])\n",
    "    #获取商品名称，注意使用单数的element\n",
    "    title= driver.find_element_by_xpath('//h1[@data-spm=\"1000983\"]').text\n",
    "    print(title)\n",
    "    #价格\n",
    "    price=driver.find_element_by_xpath('//div[@class=\"tm-promo-price\"]').text\n",
    "    print(price)\n",
    "    #月销量\n",
    "    mcount=driver.find_element_by_xpath('//span[@class=\"tm-count\"]').text\n",
    "    print(mcount)\n",
    "    #评论数(当子类名称一样，找父类，父类一样找爷爷类... 找到不同的类使其加在最初子类前面表示一种限定)\n",
    "    ccount=driver.find_element_by_path('//liv[@class=\"tm-ind-item tm-ind-reviewCount canClick tm-line3\"]//span[@class=\"tm-count\"]')\n",
    "    print(ccount)\n",
    "    print('===========')\n",
    "    #存储\n",
    "    titles.append(title)\n",
    "    prices.append(price)\n",
    "    mcounts.append(mcount)\n",
    "    ccounts.append(ccount)\n",
    "    \n",
    "    driver.close()\n",
    "    driver.switch_to_window(driver.window_handles[0])"
   ]
  },
  {
   "cell_type": "code",
   "execution_count": 12,
   "metadata": {},
   "outputs": [
    {
     "data": {
      "text/plain": [
       "[1, 2]"
      ]
     },
     "execution_count": 12,
     "metadata": {},
     "output_type": "execute_result"
    }
   ],
   "source": [
    "x=[1,2]\n",
    "x"
   ]
  },
  {
   "cell_type": "code",
   "execution_count": 13,
   "metadata": {},
   "outputs": [
    {
     "name": "stdout",
     "output_type": "stream",
     "text": [
      "[1, 2]\n"
     ]
    }
   ],
   "source": [
    "x=[1,2]\n",
    "print(x)"
   ]
  },
  {
   "cell_type": "code",
   "execution_count": null,
   "metadata": {},
   "outputs": [],
   "source": [
    "#存储在数据框dataframe\n",
    "import pandas as pd\n",
    "data = pd.DataFrame()\n",
    "data['名称'] = titles\n",
    "data['价格'] = prices\n",
    "data['月销量'] = mcounts\n",
    "data['评论数'] = ccounts"
   ]
  },
  {
   "cell_type": "code",
   "execution_count": null,
   "metadata": {},
   "outputs": [],
   "source": [
    "data "
   ]
  },
  {
   "cell_type": "code",
   "execution_count": null,
   "metadata": {},
   "outputs": [],
   "source": [
    "# 数据保存到Excel文件，此文件和.ipynb文件存放在同一目录下\n",
    "data.to_excel('淘宝商品数据.xlsx')"
   ]
  }
 ],
 "metadata": {
  "kernelspec": {
   "display_name": "Python 3",
   "language": "python",
   "name": "python3"
  },
  "language_info": {
   "codemirror_mode": {
    "name": "ipython",
    "version": 3
   },
   "file_extension": ".py",
   "mimetype": "text/x-python",
   "name": "python",
   "nbconvert_exporter": "python",
   "pygments_lexer": "ipython3",
   "version": "3.7.3"
  }
 },
 "nbformat": 4,
 "nbformat_minor": 2
}
